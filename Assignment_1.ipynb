{
  "nbformat": 4,
  "nbformat_minor": 0,
  "metadata": {
    "colab": {
      "name": "Assignment-1.ipynb",
      "provenance": [],
      "collapsed_sections": [],
      "toc_visible": true,
      "authorship_tag": "ABX9TyOZLabig6aMU+BWZQxTZZez",
      "include_colab_link": true
    },
    "kernelspec": {
      "name": "python3",
      "display_name": "Python 3"
    },
    "accelerator": "GPU"
  },
  "cells": [
    {
      "cell_type": "markdown",
      "metadata": {
        "id": "view-in-github",
        "colab_type": "text"
      },
      "source": [
        "<a href=\"https://colab.research.google.com/github/SauloSilva/IPCV-2020/blob/main/Assignment_1.ipynb\" target=\"_parent\"><img src=\"https://colab.research.google.com/assets/colab-badge.svg\" alt=\"Open In Colab\"/></a>"
      ]
    },
    {
      "cell_type": "markdown",
      "metadata": {
        "id": "I1ulIkyJWtU8"
      },
      "source": [
        "# **Assignment 1**\n",
        "\n",
        "Intructions for the assignment: link\n",
        "\n",
        "## **Part 1: Google Colab Setup**\n",
        "Next we need to run a few commands to set up our environment on Google Colab. If you are running this notebook on a local machine you can skip this section.\n",
        "\n",
        "\n",
        "Run the following cell to mount your Google Drive. Follow the link, sign in to your Google account (the same account you used to store this notebook!) and copy the authorization code into the text box that appears below."
      ]
    },
    {
      "cell_type": "code",
      "metadata": {
        "id": "vOkAsB4ygwqq",
        "outputId": "69ccf1bd-09a5-4e79-c8fb-8dc4561788d5",
        "colab": {
          "base_uri": "https://localhost:8080/"
        }
      },
      "source": [
        "from google.colab import drive\n",
        "drive.mount('/content/drive')"
      ],
      "execution_count": null,
      "outputs": [
        {
          "output_type": "stream",
          "text": [
            "Mounted at /content/drive\n"
          ],
          "name": "stdout"
        }
      ]
    },
    {
      "cell_type": "markdown",
      "metadata": {
        "id": "2G5YRQBiXBCu"
      },
      "source": [
        "2. You can use command line instructions like `ls` and `cd` to find the folder that this notebook is stored. Move to this folder by changing the code below to access your folder:"
      ]
    },
    {
      "cell_type": "code",
      "metadata": {
        "id": "5OmDKtmxmhtT",
        "outputId": "df29dd30-a6a8-4c18-d47a-a1aef41dc276",
        "colab": {
          "base_uri": "https://localhost:8080/"
        }
      },
      "source": [
        "%cd drive/'My Drive'/IPCV-2020/Assignment-1/"
      ],
      "execution_count": null,
      "outputs": [
        {
          "output_type": "stream",
          "text": [
            "/content/drive/My Drive/IPCV-2020/Assignment-1\n"
          ],
          "name": "stdout"
        }
      ]
    },
    {
      "cell_type": "markdown",
      "metadata": {
        "id": "7YCsIp3UXOin"
      },
      "source": [
        "3. If you're using python scripts together with your implementation we recommend using the [autoreload](https://ipython.readthedocs.io/en/stable/config/extensions/autoreload.html?highlight=autoreload) extension. This allows us to edit .py source files, and re-import them into the notebook for a seamless editing and debugging experience."
      ]
    },
    {
      "cell_type": "code",
      "metadata": {
        "id": "Uqi7D6kPmmau"
      },
      "source": [
        "%load_ext autoreload\n",
        "%autoreload 2"
      ],
      "execution_count": null,
      "outputs": []
    },
    {
      "cell_type": "markdown",
      "metadata": {
        "id": "P1JPyY2iXRLW"
      },
      "source": [
        "### **Part 2: PyTorch Tensors**\n",
        "\n",
        "As instructed in class we'll be using PyTorch in all throught the semester, for more information check the assignment instructions page and the references provided.\n",
        "\n",
        "1. Start by importing and checking PyTorch version. In case you're running locally, you must be sure to have [installed](https://pytorch.org/get-started/locally/) the latest version in a proper environment."
      ]
    },
    {
      "cell_type": "code",
      "metadata": {
        "id": "mx8U7l86mtnR",
        "outputId": "b4fe7100-7f63-4dce-d25e-1c535dedacb3",
        "colab": {
          "base_uri": "https://localhost:8080/"
        }
      },
      "source": [
        "import torch\n",
        "print(torch.__version__)"
      ],
      "execution_count": null,
      "outputs": [
        {
          "output_type": "stream",
          "text": [
            "1.7.0+cu101\n"
          ],
          "name": "stdout"
        }
      ]
    },
    {
      "cell_type": "code",
      "metadata": {
        "id": "zXJfT7hMXkfF",
        "outputId": "e97937af-c940-4db4-ca77-d90d2a78db3b",
        "colab": {
          "base_uri": "https://localhost:8080/"
        }
      },
      "source": [
        "# Example\n",
        "# 2x2 tensor built from a regular array\n",
        "T = torch.tensor( [ [1,2], [3, 4] ] )\n",
        "print(T)\n",
        "print('---------------')\n",
        "\n",
        "T_row = T[0,:]\n",
        "T_cln = T[:,0]\n",
        "T_e =   T[0,0].item()\n",
        "print(T[0,0], T_e)\n",
        "print('---------------')\n",
        " \n",
        "print(T.dtype)\n",
        "print('---------------')\n",
        "print(T.size())"
      ],
      "execution_count": null,
      "outputs": [
        {
          "output_type": "stream",
          "text": [
            "tensor([[1, 2],\n",
            "        [3, 4]])\n",
            "---------------\n",
            "tensor(1) 1\n",
            "---------------\n",
            "torch.int64\n",
            "---------------\n",
            "torch.Size([2, 2])\n"
          ],
          "name": "stdout"
        }
      ]
    },
    {
      "cell_type": "markdown",
      "metadata": {
        "id": "DpIgWFrcXo8s"
      },
      "source": [
        "2. Run the example above, or a similar one, but experiment using the functions: `torch.Tensor`, `torch.as_tensor` and `torch.empty` when creating tensors. You should also check `torch.set_default_dtype` and experiment with it. See [doc](https://pytorch.org/docs/stable/torch.html#)\n",
        "3. You must check for differences in how PyTorch handles memory and data type.\n",
        "4. Write on markdown or as a comment a brief comment on what is the difference between using those or the standard `torch.tensor`."
      ]
    },
    {
      "cell_type": "code",
      "metadata": {
        "id": "N7coQbE9XqLm"
      },
      "source": [
        "##############################################################################\n",
        "# Code for 2-4.\n",
        "##############################################################################\n",
        "\n",
        "def checker(tensor):\n",
        "  print(tensor)\n",
        "  print('---------------')\n",
        "\n",
        "  T_row = tensor[0,:]\n",
        "  T_cln = tensor[:,0]\n",
        "  T_e =   tensor[0,0].item()\n",
        "  print(T_row, T_cln, T[0,0], T_e)\n",
        "  print('---------------')\n",
        "  \n",
        "  print(tensor.dtype)\n",
        "  print('---------------')\n",
        "  print(tensor.size())\n",
        "\n",
        "print('torch.Tensor: Ele cria um tensor, porém usa o tipo float32')\n",
        "Tensor = torch.Tensor( [ [1,2], [3, 4] ] )\n",
        "checker(Tensor)\n",
        "\n",
        "print('========================================================\\n')\n",
        "\n",
        "print('torch.as_tensor: Ele cria um tensor, porém usa o tipo int64')\n",
        "asTensor = torch.as_tensor( [ [1,2], [3, 4] ] )\n",
        "checker(asTensor)\n",
        "\n",
        "print('========================================================\\n')\n",
        "\n",
        "print(torch.tensor( [1.3, 2] ).dtype)\n",
        "torch.set_default_dtype(torch.float32)\n",
        "# troca os tipos dos tensores\n",
        "print(torch.tensor( [1.3, 2] ).dtype)\n",
        "\n",
        "\n",
        "print('========================================================\\n')\n",
        "\n",
        "print('torch.empty: cria um objeto de tensor vazio')\n",
        "empty = torch.empty\n",
        "print(empty)\n",
        "\n",
        "print('========================================================\\n')\n"
      ],
      "execution_count": null,
      "outputs": []
    },
    {
      "cell_type": "markdown",
      "metadata": {
        "id": "MuFjyJKBd5qM"
      },
      "source": [
        "5. Write a function that receives a 2D tensor as input and returns a tensor of same size that is \n",
        "- equal to the input on the first row\n",
        "- 2 times the input's second row on the second row\n",
        "- 3 times the input's third row on the third row\n",
        "- etc..\n",
        "\n",
        "For instance:\n",
        "```\n",
        ">>> t = torch.full((4, 8), 2.0)\n",
        ">>> t\n",
        "tensor([[2., 2., 2., 2., 2., 2., 2., 2.],\n",
        "[2., 2., 2., 2., 2., 2., 2., 2.],\n",
        "[2., 2., 2., 2., 2., 2., 2., 2.],\n",
        "[2., 2., 2., 2., 2., 2., 2., 2.]])\n",
        ">>> mul_row(t)\n",
        "tensor([[2., 2., 2., 2., 2., 2., 2., 2.],\n",
        "[4., 4., 4., 4., 4., 4., 4., 4.],\n",
        "[6., 6., 6., 6., 6., 6., 6., 6.],\n",
        "[8., 8., 8., 8., 8., 8., 8., 8.]])\n",
        "```\n",
        "\n",
        "6. You must use tensor operations to do so, which means no loops.\n",
        "  **Hint**: Use broadcasting and `torch.arange`, `torch.view`, and `torch.mul`.\n",
        "\n",
        "7. *Extra*: You can also implement a simpler version using loops and simple indexing, and then compare the two functions using `times` for large tensors (ex: `torch.ones(1000,500)`)."
      ]
    },
    {
      "cell_type": "code",
      "metadata": {
        "id": "LK5eYtbzd7uz",
        "outputId": "f45012bd-a35a-4905-c6b7-d44e6e556137",
        "colab": {
          "base_uri": "https://localhost:8080/"
        }
      },
      "source": [
        "##############################################################################\n",
        "# Code for 5-7.\n",
        "##############################################################################\n",
        "import torch\n",
        "import time\n",
        "\n",
        "start_time_1 = time.time()\n",
        "\n",
        "# torch.ones(4, 8)\n",
        "list_1 = torch.ones(1000, 500)\n",
        "# torch.arange(2, 10, 2).view(4, 1)\n",
        "list_2 = torch.arange(2, 2002, 2).view(1000, 1)\n",
        "\n",
        "mult = torch.mul(list_1, list_2)\n",
        "print(mult)\n",
        "\n",
        "print(\"--- %s seconds of torch.mul ---\" % (time.time() - start_time_1))\n",
        "\n",
        "\n",
        "start_time_2 = time.time()\n",
        "a, b = torch.broadcast_tensors(list_1, list_2)\n",
        "print(b)\n",
        "print(\"--- %s seconds of torch.broadcast_tensors ---\" % (time.time() - start_time_2))\n",
        "\n",
        "start_time_3 = time.time()\n",
        "for i, t in enumerate(torch.ones(1000, 500)):\n",
        "  list_3 = torch.arange(2, 2002, 2)[i]\n",
        "  torch.mul(t, list_3)\n",
        "\n",
        "print(\"--- %s seconds ---\" % (time.time() - start_time_3))"
      ],
      "execution_count": null,
      "outputs": [
        {
          "output_type": "stream",
          "text": [
            "tensor([[   2.,    2.,    2.,  ...,    2.,    2.,    2.],\n",
            "        [   4.,    4.,    4.,  ...,    4.,    4.,    4.],\n",
            "        [   6.,    6.,    6.,  ...,    6.,    6.,    6.],\n",
            "        ...,\n",
            "        [1996., 1996., 1996.,  ..., 1996., 1996., 1996.],\n",
            "        [1998., 1998., 1998.,  ..., 1998., 1998., 1998.],\n",
            "        [2000., 2000., 2000.,  ..., 2000., 2000., 2000.]])\n",
            "--- 0.1676652431488037 seconds of torch.mul ---\n",
            "tensor([[   2,    2,    2,  ...,    2,    2,    2],\n",
            "        [   4,    4,    4,  ...,    4,    4,    4],\n",
            "        [   6,    6,    6,  ...,    6,    6,    6],\n",
            "        ...,\n",
            "        [1996, 1996, 1996,  ..., 1996, 1996, 1996],\n",
            "        [1998, 1998, 1998,  ..., 1998, 1998, 1998],\n",
            "        [2000, 2000, 2000,  ..., 2000, 2000, 2000]])\n",
            "--- 0.0018329620361328125 seconds of torch.broadcast_tensors ---\n",
            "--- 0.04192018508911133 seconds ---\n"
          ],
          "name": "stdout"
        }
      ]
    },
    {
      "cell_type": "markdown",
      "metadata": {
        "id": "W2iYVY6VwwMy"
      },
      "source": [
        "For the following parts you'll practice how to train and evaluate a neural \n",
        "\n",
        "*   List item\n",
        "*   List item\n",
        "\n",
        "network trained on MNIST.\n",
        "\n",
        "### **Part 3: Handling Data**\n",
        "\n",
        "**MNIST**, is a famous dataset containing 70,000 grayscale hand-written digits (0-9) and their associated values. PyTorch `torchvision.dataset` gives us access to a few datasets including this one. The dataset is divided as 60,000 training images and 10,000 for the test set.\n",
        "\n",
        "Using MNIST you should construct a neural network classifier that can predict the digits in an image.\n"
      ]
    },
    {
      "cell_type": "code",
      "metadata": {
        "id": "7DaB6ayswxsV",
        "outputId": "e9985080-1210-4d6a-9de3-8b29f7b49b5a",
        "colab": {
          "base_uri": "https://localhost:8080/",
          "height": 248
        }
      },
      "source": [
        "import os\n",
        "import numpy as np\n",
        "import matplotlib.pyplot as plt\n",
        "%matplotlib inline\n",
        "\n",
        "import torch\n",
        "import torchvision\n",
        "from torchvision import transforms\n",
        "from torchvision.datasets import MNIST\n",
        "\n",
        "#example\n",
        "mnist_transform = transforms.Compose([transforms.ToTensor(),\n",
        "                                 transforms.Normalize((0.1307,), (0.3081,)) ])\n",
        "mnist_data = MNIST(os.getcwd(), download=True, transform=mnist_transform)\n",
        "\n",
        "image, label = mnist_data.__getitem__(2020)\n",
        "plt.imshow(  image.view(28,28).numpy(), cmap = 'gray_r' )\n",
        "plt.axis('off')\n",
        "plt.show()"
      ],
      "execution_count": null,
      "outputs": [
        {
          "output_type": "display_data",
          "data": {
            "image/png": "[encoded data removed]",
            "text/plain": [
              "<Figure size 432x288 with 1 Axes>"
            ]
          },
          "metadata": {
            "tags": [],
            "needs_background": "light"
          }
        }
      ]
    },
    {
      "cell_type": "markdown",
      "metadata": {
        "id": "kfnOTtEY39EA"
      },
      "source": [
        "1. Now you must create a train-test-val split. \n",
        "  * First check [here](https://pytorch.org/docs/stable/torchvision/datasets.html#mnist) to know how to get a train-test split. Then use `random_split` to break your train set in a ratio [55000, 5000]. \n",
        "  * Create their respective loaders using `DataLoader`.\n",
        "  * Create a function that receives a batch of images and can plot them in a organized manner. Check [here](https://matplotlib.org/3.3.1/tutorials/index.html).\n",
        "  * Check the size of the datasets, as well as the shape of the images.\n",
        "  * Check how balanced each dataset split is: You can use `torch.bincount` feature."
      ]
    },
    {
      "cell_type": "code",
      "metadata": {
        "id": "2evI6VKR4BPz"
      },
      "source": [
        "##############################################################################\n",
        "# Code for 1.\n",
        "##############################################################################\n",
        "\n",
        "from torch.utils.data import random_split, DataLoader\n",
        "\n",
        "import numpy as np\n",
        "import torch\n",
        "import torchvision\n",
        "from torchvision import transforms\n",
        "from torchvision.datasets import MNIST\n",
        "import os\n",
        "\n",
        "\n",
        "mnist_transform = transforms.Compose([transforms.ToTensor(),\n",
        "                                 transforms.Normalize((0.1307,), (0.3081,)) ])\n",
        "\n",
        "mnist_data = torchvision.datasets.MNIST(os.getcwd(), train=True, download=True, transform=mnist_transform)\n",
        "mnist_train, mnist_val = random_split(mnist_data, [55000, 5000])\n",
        "\n",
        "mnist_test = torchvision.datasets.MNIST(os.getcwd(), train=False, download=True, transform=mnist_transform)\n",
        "\n",
        "BZ=64\n",
        "loader_train = DataLoader(mnist_train, batch_size=BZ)\n",
        "loader_val = DataLoader(mnist_val, batch_size=BZ)\n",
        "loader_test = DataLoader(mnist_test, batch_size=BZ)"
      ],
      "execution_count": null,
      "outputs": []
    },
    {
      "cell_type": "code",
      "metadata": {
        "id": "Aj3AK1l-_zx6",
        "outputId": "149c4428-c852-4209-db53-c0878daea86e",
        "colab": {
          "base_uri": "https://localhost:8080/",
          "height": 134
        }
      },
      "source": [
        "import numpy as np\n",
        "import matplotlib.pyplot as plt\n",
        "%matplotlib inline\n",
        "\n",
        "def show(image, nrow=8):\n",
        "  img_grid = torchvision.utils.make_grid(image, nrow=nrow).numpy()\n",
        "  plt.figure()\n",
        "  plt.imshow(np.transpose(img_grid, (1, 2, 0)), interpolation='gaussian')\n",
        "  plt.axis('off')\n",
        "  plt.show()\n",
        "\n",
        "\n",
        "images, _ = iter(loader_test).next()\n",
        "show(images[:16])\n"
      ],
      "execution_count": null,
      "outputs": [
        {
          "output_type": "stream",
          "text": [
            "Clipping input data to the valid range for imshow with RGB data ([0..1] for floats or [0..255] for integers).\n"
          ],
          "name": "stderr"
        },
        {
          "output_type": "display_data",
          "data": {
            "image/png": "[encoded data removed]",
            "text/plain": [
              "<Figure size 432x288 with 1 Axes>"
            ]
          },
          "metadata": {
            "tags": [],
            "needs_background": "light"
          }
        }
      ]
    },
    {
      "cell_type": "code",
      "metadata": {
        "id": "56vdFvB2Bh4t",
        "outputId": "63280282-fe67-441c-8214-c2f931748c6c",
        "colab": {
          "base_uri": "https://localhost:8080/"
        }
      },
      "source": [
        "mnist_data.targets.bincount()"
      ],
      "execution_count": null,
      "outputs": [
        {
          "output_type": "execute_result",
          "data": {
            "text/plain": [
              "tensor([5923, 6742, 5958, 6131, 5842, 5421, 5918, 6265, 5851, 5949])"
            ]
          },
          "metadata": {
            "tags": []
          },
          "execution_count": 4
        }
      ]
    },
    {
      "cell_type": "markdown",
      "metadata": {
        "id": "GGGEMVl2JeGF"
      },
      "source": [
        "2. Using `torch.nn` define a two layers feedforward neural network with a ReLU activation. The network must receive the image in its original shape, and reshape it in order to pass throught the linear layers."
      ]
    },
    {
      "cell_type": "code",
      "metadata": {
        "id": "gVIHYBqVJfUs"
      },
      "source": [
        "import torch.nn as nn\n",
        "\n",
        "class TwoLayerNN(nn.Module):\n",
        "  def __init__(self, dim_in, dim_hidden, dim_out):\n",
        "    super(TwoLayerNN, self).__init__();\n",
        "    self.linear_1 = nn.Linear(dim_in, dim_hidden)\n",
        "    self.act = nn.ReLU()\n",
        "    self.linear_2 = nn.Linear(dim_hidden, dim_out)\n",
        "  \n",
        "  def forward(self, x):\n",
        "    x = x.flatten(start_dim=1)\n",
        "    h = self.linear_1(x)\n",
        "    h = self.act(h)\n",
        "    y = self.linear_2(h)\n",
        "    return y\n",
        "\n",
        "dim_in, dim_hidden, dim_out = 28 * 28, 128, 10\n",
        "\n",
        "model = TwoLayerNN(dim_in, dim_hidden, dim_out)\n",
        "pred = model(images)"
      ],
      "execution_count": null,
      "outputs": []
    },
    {
      "cell_type": "code",
      "metadata": {
        "id": "7ihGEGW6WZJY",
        "outputId": "0b2c2781-b2a7-4d69-ee73-d6746725d473",
        "colab": {
          "base_uri": "https://localhost:8080/"
        }
      },
      "source": [
        "pred.size()"
      ],
      "execution_count": null,
      "outputs": [
        {
          "output_type": "execute_result",
          "data": {
            "text/plain": [
              "torch.Size([64, 10])"
            ]
          },
          "metadata": {
            "tags": []
          },
          "execution_count": 6
        }
      ]
    },
    {
      "cell_type": "markdown",
      "metadata": {
        "id": "FzTZI3ciRQwA"
      },
      "source": [
        "3. Using the `CrossEntropyLoss` loss function you must set a SGD optimizer and train your network on the MNIST for at least 10 epochs. You should set a print statement or a progress bar to print your training loss.\n",
        "\n",
        "4. Test your model in your test dataset. Remember to use `torch.no_grad`.\n",
        "\n",
        "5. Change your learning rate and batch size one or two times to observe how the test performance varies."
      ]
    },
    {
      "cell_type": "code",
      "metadata": {
        "id": "3XI_knKqRRes"
      },
      "source": [
        "loss = nn.CrossEntropyLoss()\n",
        "optim = torch.optim.SGD(list(model.parameters()), lr=0.01)"
      ],
      "execution_count": null,
      "outputs": []
    },
    {
      "cell_type": "code",
      "metadata": {
        "id": "mBvVLHQ2TZHm",
        "outputId": "498c0b20-2976-4547-9a07-ffad0425c9c7",
        "colab": {
          "base_uri": "https://localhost:8080/"
        }
      },
      "source": [
        "for epoch in range(5):\n",
        "  print(\"------------------------\")\n",
        "  for idx, (img_batch, y_batch) in enumerate(loader_train):\n",
        "    y_pred = model(img_batch)\n",
        "    error = loss(y_pred, y_batch)\n",
        "\n",
        "    optim.zero_grad()\n",
        "    error.backward()\n",
        "    optim.step()\n",
        "\n",
        "    if idx % 100 == 0:\n",
        "      print(\"epoch: {}, step: {}, loss: {}\".format(epoch, idx, error.item()))"
      ],
      "execution_count": null,
      "outputs": [
        {
          "output_type": "stream",
          "text": [
            "------------------------\n",
            "epoch: 0, step: 0, loss: 0.005780158098787069\n",
            "epoch: 0, step: 100, loss: 0.0018376903608441353\n",
            "epoch: 0, step: 200, loss: 0.005776436533778906\n",
            "epoch: 0, step: 300, loss: 0.007137714885175228\n",
            "epoch: 0, step: 400, loss: 0.003047423204407096\n",
            "epoch: 0, step: 500, loss: 0.003450545482337475\n",
            "epoch: 0, step: 600, loss: 0.0020146043971180916\n",
            "epoch: 0, step: 700, loss: 0.003059131558984518\n",
            "epoch: 0, step: 800, loss: 0.003448969917371869\n",
            "------------------------\n",
            "epoch: 1, step: 0, loss: 0.005722892004996538\n",
            "epoch: 1, step: 100, loss: 0.0018182985950261354\n",
            "epoch: 1, step: 200, loss: 0.005669502541422844\n",
            "epoch: 1, step: 300, loss: 0.007104973774403334\n",
            "epoch: 1, step: 400, loss: 0.003004878992214799\n",
            "epoch: 1, step: 500, loss: 0.0034092520363628864\n",
            "epoch: 1, step: 600, loss: 0.0020059298258274794\n",
            "epoch: 1, step: 700, loss: 0.003017642069607973\n",
            "epoch: 1, step: 800, loss: 0.003405646188184619\n",
            "------------------------\n",
            "epoch: 2, step: 0, loss: 0.005699091590940952\n",
            "epoch: 2, step: 100, loss: 0.001809301320463419\n",
            "epoch: 2, step: 200, loss: 0.005691627040505409\n",
            "epoch: 2, step: 300, loss: 0.007008394226431847\n",
            "epoch: 2, step: 400, loss: 0.002982798730954528\n",
            "epoch: 2, step: 500, loss: 0.003373856656253338\n",
            "epoch: 2, step: 600, loss: 0.0019900663755834103\n",
            "epoch: 2, step: 700, loss: 0.0030126424971967936\n",
            "epoch: 2, step: 800, loss: 0.0033857785165309906\n",
            "------------------------\n",
            "epoch: 3, step: 0, loss: 0.00563563359901309\n",
            "epoch: 3, step: 100, loss: 0.0018001226708292961\n",
            "epoch: 3, step: 200, loss: 0.005601124372333288\n",
            "epoch: 3, step: 300, loss: 0.006955587770789862\n",
            "epoch: 3, step: 400, loss: 0.0029530038591474295\n",
            "epoch: 3, step: 500, loss: 0.003347771242260933\n",
            "epoch: 3, step: 600, loss: 0.0019765147008001804\n",
            "epoch: 3, step: 700, loss: 0.002970074536278844\n",
            "epoch: 3, step: 800, loss: 0.003333381377160549\n",
            "------------------------\n",
            "epoch: 4, step: 0, loss: 0.005588354077190161\n",
            "epoch: 4, step: 100, loss: 0.001773510011844337\n",
            "epoch: 4, step: 200, loss: 0.0055511267855763435\n",
            "epoch: 4, step: 300, loss: 0.006887061055749655\n",
            "epoch: 4, step: 400, loss: 0.0029238855931907892\n",
            "epoch: 4, step: 500, loss: 0.003327863058075309\n",
            "epoch: 4, step: 600, loss: 0.00197034003213048\n",
            "epoch: 4, step: 700, loss: 0.0029541971161961555\n",
            "epoch: 4, step: 800, loss: 0.0033115404658019543\n"
          ],
          "name": "stdout"
        }
      ]
    },
    {
      "cell_type": "code",
      "metadata": {
        "id": "Kzy8chXEskGq"
      },
      "source": [
        "with torch.no_grad():\n",
        "  total = 0\n",
        "  correct = 0\n",
        "\n",
        "  for images, labels in loader_test:\n",
        "    y_pred = model(images)\n",
        "    _, predicted = torch.max(y_pred.data, 1)\n",
        "\n",
        "    total += labels.size(0)\n",
        "    correct += (predicted == labels).sum().item()\n",
        "\n",
        "  print('Accuracy: {}'.format(100 * correct/total))"
      ],
      "execution_count": null,
      "outputs": []
    },
    {
      "cell_type": "code",
      "metadata": {
        "id": "ju18n8Xc7lZs"
      },
      "source": [
        "cuda = torch.cuda.is_available()\n",
        "device = torch.device(\"cuda:0\" if cuda else \"cpu\")"
      ],
      "execution_count": null,
      "outputs": []
    },
    {
      "cell_type": "markdown",
      "metadata": {
        "id": "u074O-vy9MVE"
      },
      "source": [
        "6. Next, change the runtime of colab for running with the GPU and modify your code to run in the gpu.\n",
        "\n",
        "7. Add a validation step in your training loop, saving your validation loss throughout the training. After the training plot the curve of the progress of this validation loss.\n",
        "\n",
        "8. Add an accuracy measure in the validation loop. You might have to modify your model in order to get the logit values, then you can use `torch.argmax` to obtain the labels predicted, which you must them compare with the true labels. Plot the evolution of the accuracy.\n"
      ]
    },
    {
      "cell_type": "code",
      "metadata": {
        "id": "KZFl8D0o9N_N"
      },
      "source": [
        "##############################################################################\n",
        "# Code for 6-8.\n",
        "##############################################################################\n",
        "\n",
        "import torch.nn as nn\n",
        "\n",
        "class TwoLayerNN(nn.Module):\n",
        "  def __init__(self, dim_in, dim_hidden, dim_out):\n",
        "    super(TwoLayerNN, self).__init__();\n",
        "    self.linear_1 = nn.Linear(dim_in, dim_hidden).cuda()\n",
        "    self.act = nn.ReLU()\n",
        "    self.linear_2 = nn.Linear(dim_hidden, dim_out).cuda()\n",
        "  \n",
        "  def forward(self, x):\n",
        "    x = x.flatten(start_dim=1)\n",
        "    h = self.linear_1(x)\n",
        "    h = self.act(h)\n",
        "    y = self.linear_2(h)\n",
        "    return y\n",
        "\n",
        "dim_in, dim_hidden, dim_out = 28 * 28, 128, 10\n",
        "\n",
        "model = TwoLayerNN(dim_in, dim_hidden, dim_out)\n",
        "images = images.to(device)\n",
        "pred = model(images)\n",
        "\n",
        "loss = nn.CrossEntropyLoss()\n",
        "optim = torch.optim.SGD(list(model.parameters()), lr=0.01)\n",
        "\n",
        "EPOCHS = 5\n",
        "hist_loss = np.zeros(EPOCHS)\n",
        "\n",
        "for epoch in range(EPOCHS):\n",
        "  print(\"------------------------\")\n",
        "  running_loss = 0\n",
        "\n",
        "  for idx, (img_batch, y_batch) in enumerate(loader_train):\n",
        "    img_batch = img_batch.to(device)\n",
        "    y_pred = model(img_batch).to(device)\n",
        "    y_batch = y_batch.to(device)\n",
        "    error = loss(y_pred, y_batch)\n",
        "\n",
        "    optim.zero_grad()\n",
        "    error.backward()\n",
        "    optim.step()\n",
        "\n",
        "    if idx % 100 == 0:\n",
        "      running_loss += error.item()\n",
        "      print(\"epoch: {}, step: {}, loss: {}\".format(epoch, idx, error.item()))\n",
        "\n",
        "      with torch.no_grad():\n",
        "        total = 0\n",
        "        correct = 0\n",
        "\n",
        "        for images, labels in loader_val:\n",
        "          images = images.to(device)\n",
        "          y_pred = model(images).to(device)\n",
        "          _, predicted = torch.max(y_pred.data, 1)\n",
        "          labels = labels.to(device)\n",
        "\n",
        "          total += labels.size(0)\n",
        "          correct += (predicted == labels).sum().item()\n",
        "\n",
        "        print('Accuracy: {}'.format(100 * correct/total))\n",
        "\n",
        "  train_loss = running_loss/len(loader_train)\n",
        "  hist_loss[epoch] = train_loss\n"
      ],
      "execution_count": null,
      "outputs": []
    },
    {
      "cell_type": "code",
      "metadata": {
        "id": "tIKWmwFCg4v6",
        "outputId": "29c0a2c8-2f40-4444-f5a5-69cb4f0e87e5",
        "colab": {
          "base_uri": "https://localhost:8080/",
          "height": 285
        }
      },
      "source": [
        "from matplotlib import pyplot as plt\n",
        "import seaborn as sns\n",
        "\n",
        "sns.set()\n",
        "\n",
        "plt.plot(hist_loss, 'o-', label='train')\n",
        "plt.legend()"
      ],
      "execution_count": null,
      "outputs": [
        {
          "output_type": "execute_result",
          "data": {
            "text/plain": [
              "<matplotlib.legend.Legend at 0x7f540b9d0898>"
            ]
          },
          "metadata": {
            "tags": []
          },
          "execution_count": 58
        },
        {
          "output_type": "display_data",
          "data": {
            "image/png": "[encoded data removed]",
            "text/plain": [
              "<Figure size 432x288 with 1 Axes>"
            ]
          },
          "metadata": {
            "tags": []
          }
        }
      ]
    },
    {
      "cell_type": "markdown",
      "metadata": {
        "id": "KXm_Nf4b9RS_"
      },
      "source": [
        "9. **[EXTRA]** Plot the confusion matrix for your result model. I suggest using [Seaborn](https://seaborn.pydata.org/). And evaluate the performance of your model."
      ]
    },
    {
      "cell_type": "code",
      "metadata": {
        "id": "MwJ1g0ZF9T7x"
      },
      "source": [
        ""
      ],
      "execution_count": null,
      "outputs": []
    }
  ]
}