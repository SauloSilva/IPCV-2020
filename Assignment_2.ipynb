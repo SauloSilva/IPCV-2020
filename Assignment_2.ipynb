{
  "nbformat": 4,
  "nbformat_minor": 0,
  "metadata": {
    "colab": {
      "name": "Assignment-2.ipynb",
      "provenance": [],
      "collapsed_sections": [],
      "authorship_tag": "ABX9TyMz07X8ZdkgrAaWdjegMHLj",
      "include_colab_link": true
    },
    "kernelspec": {
      "name": "python3",
      "display_name": "Python 3"
    },
    "accelerator": "GPU",
    "widgets": {
      "application/vnd.jupyter.widget-state+json": {
        "0f82e017cadd46b89502a4ab2f56a5b7": {
          "model_module": "@jupyter-widgets/controls",
          "model_name": "HBoxModel",
          "state": {
            "_view_name": "HBoxView",
            "_dom_classes": [],
            "_model_name": "HBoxModel",
            "_view_module": "@jupyter-widgets/controls",
            "_model_module_version": "1.5.0",
            "_view_count": null,
            "_view_module_version": "1.5.0",
            "box_style": "",
            "layout": "IPY_MODEL_9619b8b650c14d978ca7cadbbad122d1",
            "_model_module": "@jupyter-widgets/controls",
            "children": [
              "IPY_MODEL_18da8315a6ee412c998bf5374b7498af",
              "IPY_MODEL_76073b43cf6d433aa54fab5b2edf8f0f"
            ]
          }
        },
        "9619b8b650c14d978ca7cadbbad122d1": {
          "model_module": "@jupyter-widgets/base",
          "model_name": "LayoutModel",
          "state": {
            "_view_name": "LayoutView",
            "grid_template_rows": null,
            "right": null,
            "justify_content": null,
            "_view_module": "@jupyter-widgets/base",
            "overflow": null,
            "_model_module_version": "1.2.0",
            "_view_count": null,
            "flex_flow": null,
            "width": null,
            "min_width": null,
            "border": null,
            "align_items": null,
            "bottom": null,
            "_model_module": "@jupyter-widgets/base",
            "top": null,
            "grid_column": null,
            "overflow_y": null,
            "overflow_x": null,
            "grid_auto_flow": null,
            "grid_area": null,
            "grid_template_columns": null,
            "flex": null,
            "_model_name": "LayoutModel",
            "justify_items": null,
            "grid_row": null,
            "max_height": null,
            "align_content": null,
            "visibility": null,
            "align_self": null,
            "height": null,
            "min_height": null,
            "padding": null,
            "grid_auto_rows": null,
            "grid_gap": null,
            "max_width": null,
            "order": null,
            "_view_module_version": "1.2.0",
            "grid_template_areas": null,
            "object_position": null,
            "object_fit": null,
            "grid_auto_columns": null,
            "margin": null,
            "display": null,
            "left": null
          }
        },
        "18da8315a6ee412c998bf5374b7498af": {
          "model_module": "@jupyter-widgets/controls",
          "model_name": "FloatProgressModel",
          "state": {
            "_view_name": "ProgressView",
            "style": "IPY_MODEL_5b746691e65840498eb927db015b54af",
            "_dom_classes": [],
            "description": "Epochs:  30%",
            "_model_name": "FloatProgressModel",
            "bar_style": "",
            "max": 20,
            "_view_module": "@jupyter-widgets/controls",
            "_model_module_version": "1.5.0",
            "value": 6,
            "_view_count": null,
            "_view_module_version": "1.5.0",
            "orientation": "horizontal",
            "min": 0,
            "description_tooltip": null,
            "_model_module": "@jupyter-widgets/controls",
            "layout": "IPY_MODEL_23e9a92e5bbe412fa51a843c5a7f4a9f"
          }
        },
        "76073b43cf6d433aa54fab5b2edf8f0f": {
          "model_module": "@jupyter-widgets/controls",
          "model_name": "HTMLModel",
          "state": {
            "_view_name": "HTMLView",
            "style": "IPY_MODEL_42da3736a6094b4ab2f2366bf583d7d3",
            "_dom_classes": [],
            "description": "",
            "_model_name": "HTMLModel",
            "placeholder": "​",
            "_view_module": "@jupyter-widgets/controls",
            "_model_module_version": "1.5.0",
            "value": " 6/20 [02:07&lt;04:56, 21.21s/it]",
            "_view_count": null,
            "_view_module_version": "1.5.0",
            "description_tooltip": null,
            "_model_module": "@jupyter-widgets/controls",
            "layout": "IPY_MODEL_55cb883fbe294270a360c984e4d0e100"
          }
        },
        "5b746691e65840498eb927db015b54af": {
          "model_module": "@jupyter-widgets/controls",
          "model_name": "ProgressStyleModel",
          "state": {
            "_view_name": "StyleView",
            "_model_name": "ProgressStyleModel",
            "description_width": "initial",
            "_view_module": "@jupyter-widgets/base",
            "_model_module_version": "1.5.0",
            "_view_count": null,
            "_view_module_version": "1.2.0",
            "bar_color": null,
            "_model_module": "@jupyter-widgets/controls"
          }
        },
        "23e9a92e5bbe412fa51a843c5a7f4a9f": {
          "model_module": "@jupyter-widgets/base",
          "model_name": "LayoutModel",
          "state": {
            "_view_name": "LayoutView",
            "grid_template_rows": null,
            "right": null,
            "justify_content": null,
            "_view_module": "@jupyter-widgets/base",
            "overflow": null,
            "_model_module_version": "1.2.0",
            "_view_count": null,
            "flex_flow": null,
            "width": null,
            "min_width": null,
            "border": null,
            "align_items": null,
            "bottom": null,
            "_model_module": "@jupyter-widgets/base",
            "top": null,
            "grid_column": null,
            "overflow_y": null,
            "overflow_x": null,
            "grid_auto_flow": null,
            "grid_area": null,
            "grid_template_columns": null,
            "flex": null,
            "_model_name": "LayoutModel",
            "justify_items": null,
            "grid_row": null,
            "max_height": null,
            "align_content": null,
            "visibility": null,
            "align_self": null,
            "height": null,
            "min_height": null,
            "padding": null,
            "grid_auto_rows": null,
            "grid_gap": null,
            "max_width": null,
            "order": null,
            "_view_module_version": "1.2.0",
            "grid_template_areas": null,
            "object_position": null,
            "object_fit": null,
            "grid_auto_columns": null,
            "margin": null,
            "display": null,
            "left": null
          }
        },
        "42da3736a6094b4ab2f2366bf583d7d3": {
          "model_module": "@jupyter-widgets/controls",
          "model_name": "DescriptionStyleModel",
          "state": {
            "_view_name": "StyleView",
            "_model_name": "DescriptionStyleModel",
            "description_width": "",
            "_view_module": "@jupyter-widgets/base",
            "_model_module_version": "1.5.0",
            "_view_count": null,
            "_view_module_version": "1.2.0",
            "_model_module": "@jupyter-widgets/controls"
          }
        },
        "55cb883fbe294270a360c984e4d0e100": {
          "model_module": "@jupyter-widgets/base",
          "model_name": "LayoutModel",
          "state": {
            "_view_name": "LayoutView",
            "grid_template_rows": null,
            "right": null,
            "justify_content": null,
            "_view_module": "@jupyter-widgets/base",
            "overflow": null,
            "_model_module_version": "1.2.0",
            "_view_count": null,
            "flex_flow": null,
            "width": null,
            "min_width": null,
            "border": null,
            "align_items": null,
            "bottom": null,
            "_model_module": "@jupyter-widgets/base",
            "top": null,
            "grid_column": null,
            "overflow_y": null,
            "overflow_x": null,
            "grid_auto_flow": null,
            "grid_area": null,
            "grid_template_columns": null,
            "flex": null,
            "_model_name": "LayoutModel",
            "justify_items": null,
            "grid_row": null,
            "max_height": null,
            "align_content": null,
            "visibility": null,
            "align_self": null,
            "height": null,
            "min_height": null,
            "padding": null,
            "grid_auto_rows": null,
            "grid_gap": null,
            "max_width": null,
            "order": null,
            "_view_module_version": "1.2.0",
            "grid_template_areas": null,
            "object_position": null,
            "object_fit": null,
            "grid_auto_columns": null,
            "margin": null,
            "display": null,
            "left": null
          }
        },
        "ff35a2dae6fb46e08c75bd7d02572069": {
          "model_module": "@jupyter-widgets/controls",
          "model_name": "HBoxModel",
          "state": {
            "_view_name": "HBoxView",
            "_dom_classes": [],
            "_model_name": "HBoxModel",
            "_view_module": "@jupyter-widgets/controls",
            "_model_module_version": "1.5.0",
            "_view_count": null,
            "_view_module_version": "1.5.0",
            "box_style": "",
            "layout": "IPY_MODEL_e2b4fae626174255bb6660feadaead2b",
            "_model_module": "@jupyter-widgets/controls",
            "children": [
              "IPY_MODEL_f6d3f1b1eb644fb89f073c61a76b2d4f",
              "IPY_MODEL_e68043f737904fb3a114788acfad9a58"
            ]
          }
        },
        "e2b4fae626174255bb6660feadaead2b": {
          "model_module": "@jupyter-widgets/base",
          "model_name": "LayoutModel",
          "state": {
            "_view_name": "LayoutView",
            "grid_template_rows": null,
            "right": null,
            "justify_content": null,
            "_view_module": "@jupyter-widgets/base",
            "overflow": null,
            "_model_module_version": "1.2.0",
            "_view_count": null,
            "flex_flow": null,
            "width": null,
            "min_width": null,
            "border": null,
            "align_items": null,
            "bottom": null,
            "_model_module": "@jupyter-widgets/base",
            "top": null,
            "grid_column": null,
            "overflow_y": null,
            "overflow_x": null,
            "grid_auto_flow": null,
            "grid_area": null,
            "grid_template_columns": null,
            "flex": null,
            "_model_name": "LayoutModel",
            "justify_items": null,
            "grid_row": null,
            "max_height": null,
            "align_content": null,
            "visibility": null,
            "align_self": null,
            "height": null,
            "min_height": null,
            "padding": null,
            "grid_auto_rows": null,
            "grid_gap": null,
            "max_width": null,
            "order": null,
            "_view_module_version": "1.2.0",
            "grid_template_areas": null,
            "object_position": null,
            "object_fit": null,
            "grid_auto_columns": null,
            "margin": null,
            "display": null,
            "left": null
          }
        },
        "f6d3f1b1eb644fb89f073c61a76b2d4f": {
          "model_module": "@jupyter-widgets/controls",
          "model_name": "FloatProgressModel",
          "state": {
            "_view_name": "ProgressView",
            "style": "IPY_MODEL_2cccf8b44a2443f98297aea30fe3f757",
            "_dom_classes": [],
            "description": "Epochs:  86%",
            "_model_name": "FloatProgressModel",
            "bar_style": "",
            "max": 859.375,
            "_view_module": "@jupyter-widgets/controls",
            "_model_module_version": "1.5.0",
            "value": 736,
            "_view_count": null,
            "_view_module_version": "1.5.0",
            "orientation": "horizontal",
            "min": 0,
            "description_tooltip": null,
            "_model_module": "@jupyter-widgets/controls",
            "layout": "IPY_MODEL_519115e3ca034f83b760201ff762364f"
          }
        },
        "e68043f737904fb3a114788acfad9a58": {
          "model_module": "@jupyter-widgets/controls",
          "model_name": "HTMLModel",
          "state": {
            "_view_name": "HTMLView",
            "style": "IPY_MODEL_0dc6dff2a1d240d39a1f7a84ae0ef6ab",
            "_dom_classes": [],
            "description": "",
            "_model_name": "HTMLModel",
            "placeholder": "​",
            "_view_module": "@jupyter-widgets/controls",
            "_model_module_version": "1.5.0",
            "value": " 736/859.375 [00:18&lt;00:02, 60.02it/s]",
            "_view_count": null,
            "_view_module_version": "1.5.0",
            "description_tooltip": null,
            "_model_module": "@jupyter-widgets/controls",
            "layout": "IPY_MODEL_d9e845279d954c45a29d8a7bd4b8a8a2"
          }
        },
        "2cccf8b44a2443f98297aea30fe3f757": {
          "model_module": "@jupyter-widgets/controls",
          "model_name": "ProgressStyleModel",
          "state": {
            "_view_name": "StyleView",
            "_model_name": "ProgressStyleModel",
            "description_width": "initial",
            "_view_module": "@jupyter-widgets/base",
            "_model_module_version": "1.5.0",
            "_view_count": null,
            "_view_module_version": "1.2.0",
            "bar_color": null,
            "_model_module": "@jupyter-widgets/controls"
          }
        },
        "519115e3ca034f83b760201ff762364f": {
          "model_module": "@jupyter-widgets/base",
          "model_name": "LayoutModel",
          "state": {
            "_view_name": "LayoutView",
            "grid_template_rows": null,
            "right": null,
            "justify_content": null,
            "_view_module": "@jupyter-widgets/base",
            "overflow": null,
            "_model_module_version": "1.2.0",
            "_view_count": null,
            "flex_flow": null,
            "width": null,
            "min_width": null,
            "border": null,
            "align_items": null,
            "bottom": null,
            "_model_module": "@jupyter-widgets/base",
            "top": null,
            "grid_column": null,
            "overflow_y": null,
            "overflow_x": null,
            "grid_auto_flow": null,
            "grid_area": null,
            "grid_template_columns": null,
            "flex": null,
            "_model_name": "LayoutModel",
            "justify_items": null,
            "grid_row": null,
            "max_height": null,
            "align_content": null,
            "visibility": null,
            "align_self": null,
            "height": null,
            "min_height": null,
            "padding": null,
            "grid_auto_rows": null,
            "grid_gap": null,
            "max_width": null,
            "order": null,
            "_view_module_version": "1.2.0",
            "grid_template_areas": null,
            "object_position": null,
            "object_fit": null,
            "grid_auto_columns": null,
            "margin": null,
            "display": null,
            "left": null
          }
        },
        "0dc6dff2a1d240d39a1f7a84ae0ef6ab": {
          "model_module": "@jupyter-widgets/controls",
          "model_name": "DescriptionStyleModel",
          "state": {
            "_view_name": "StyleView",
            "_model_name": "DescriptionStyleModel",
            "description_width": "",
            "_view_module": "@jupyter-widgets/base",
            "_model_module_version": "1.5.0",
            "_view_count": null,
            "_view_module_version": "1.2.0",
            "_model_module": "@jupyter-widgets/controls"
          }
        },
        "d9e845279d954c45a29d8a7bd4b8a8a2": {
          "model_module": "@jupyter-widgets/base",
          "model_name": "LayoutModel",
          "state": {
            "_view_name": "LayoutView",
            "grid_template_rows": null,
            "right": null,
            "justify_content": null,
            "_view_module": "@jupyter-widgets/base",
            "overflow": null,
            "_model_module_version": "1.2.0",
            "_view_count": null,
            "flex_flow": null,
            "width": null,
            "min_width": null,
            "border": null,
            "align_items": null,
            "bottom": null,
            "_model_module": "@jupyter-widgets/base",
            "top": null,
            "grid_column": null,
            "overflow_y": null,
            "overflow_x": null,
            "grid_auto_flow": null,
            "grid_area": null,
            "grid_template_columns": null,
            "flex": null,
            "_model_name": "LayoutModel",
            "justify_items": null,
            "grid_row": null,
            "max_height": null,
            "align_content": null,
            "visibility": null,
            "align_self": null,
            "height": null,
            "min_height": null,
            "padding": null,
            "grid_auto_rows": null,
            "grid_gap": null,
            "max_width": null,
            "order": null,
            "_view_module_version": "1.2.0",
            "grid_template_areas": null,
            "object_position": null,
            "object_fit": null,
            "grid_auto_columns": null,
            "margin": null,
            "display": null,
            "left": null
          }
        },
        "a45136cfc4f94399a2f0fc9d98217093": {
          "model_module": "@jupyter-widgets/controls",
          "model_name": "HBoxModel",
          "state": {
            "_view_name": "HBoxView",
            "_dom_classes": [],
            "_model_name": "HBoxModel",
            "_view_module": "@jupyter-widgets/controls",
            "_model_module_version": "1.5.0",
            "_view_count": null,
            "_view_module_version": "1.5.0",
            "box_style": "",
            "layout": "IPY_MODEL_4dc8bef724be42b1ac71f5075870666a",
            "_model_module": "@jupyter-widgets/controls",
            "children": [
              "IPY_MODEL_cac876e5d89d44848d90542c0e102ac8",
              "IPY_MODEL_0bb706e10b79484284f362dce8029835"
            ]
          }
        },
        "4dc8bef724be42b1ac71f5075870666a": {
          "model_module": "@jupyter-widgets/base",
          "model_name": "LayoutModel",
          "state": {
            "_view_name": "LayoutView",
            "grid_template_rows": null,
            "right": null,
            "justify_content": null,
            "_view_module": "@jupyter-widgets/base",
            "overflow": null,
            "_model_module_version": "1.2.0",
            "_view_count": null,
            "flex_flow": null,
            "width": null,
            "min_width": null,
            "border": null,
            "align_items": null,
            "bottom": null,
            "_model_module": "@jupyter-widgets/base",
            "top": null,
            "grid_column": null,
            "overflow_y": null,
            "overflow_x": null,
            "grid_auto_flow": null,
            "grid_area": null,
            "grid_template_columns": null,
            "flex": null,
            "_model_name": "LayoutModel",
            "justify_items": null,
            "grid_row": null,
            "max_height": null,
            "align_content": null,
            "visibility": null,
            "align_self": null,
            "height": null,
            "min_height": null,
            "padding": null,
            "grid_auto_rows": null,
            "grid_gap": null,
            "max_width": null,
            "order": null,
            "_view_module_version": "1.2.0",
            "grid_template_areas": null,
            "object_position": null,
            "object_fit": null,
            "grid_auto_columns": null,
            "margin": null,
            "display": null,
            "left": null
          }
        },
        "cac876e5d89d44848d90542c0e102ac8": {
          "model_module": "@jupyter-widgets/controls",
          "model_name": "FloatProgressModel",
          "state": {
            "_view_name": "ProgressView",
            "style": "IPY_MODEL_f7ff054f1fcf48a9ab8e2a727cdca021",
            "_dom_classes": [],
            "description": "",
            "_model_name": "FloatProgressModel",
            "bar_style": "",
            "max": 859.375,
            "_view_module": "@jupyter-widgets/controls",
            "_model_module_version": "1.5.0",
            "value": 739,
            "_view_count": null,
            "_view_module_version": "1.5.0",
            "orientation": "horizontal",
            "min": 0,
            "description_tooltip": null,
            "_model_module": "@jupyter-widgets/controls",
            "layout": "IPY_MODEL_92c262c122774f26988879e6ec1a3df7"
          }
        },
        "0bb706e10b79484284f362dce8029835": {
          "model_module": "@jupyter-widgets/controls",
          "model_name": "HTMLModel",
          "state": {
            "_view_name": "HTMLView",
            "style": "IPY_MODEL_2754825600d44ddebfb094cb0d04f312",
            "_dom_classes": [],
            "description": "",
            "_model_name": "HTMLModel",
            "placeholder": "​",
            "_view_module": "@jupyter-widgets/controls",
            "_model_module_version": "1.5.0",
            "value": "Loss     0.23",
            "_view_count": null,
            "_view_module_version": "1.5.0",
            "description_tooltip": null,
            "_model_module": "@jupyter-widgets/controls",
            "layout": "IPY_MODEL_a931353c68a44566ab702205e3a6040e"
          }
        },
        "f7ff054f1fcf48a9ab8e2a727cdca021": {
          "model_module": "@jupyter-widgets/controls",
          "model_name": "ProgressStyleModel",
          "state": {
            "_view_name": "StyleView",
            "_model_name": "ProgressStyleModel",
            "description_width": "initial",
            "_view_module": "@jupyter-widgets/base",
            "_model_module_version": "1.5.0",
            "_view_count": null,
            "_view_module_version": "1.2.0",
            "bar_color": null,
            "_model_module": "@jupyter-widgets/controls"
          }
        },
        "92c262c122774f26988879e6ec1a3df7": {
          "model_module": "@jupyter-widgets/base",
          "model_name": "LayoutModel",
          "state": {
            "_view_name": "LayoutView",
            "grid_template_rows": null,
            "right": null,
            "justify_content": null,
            "_view_module": "@jupyter-widgets/base",
            "overflow": null,
            "_model_module_version": "1.2.0",
            "_view_count": null,
            "flex_flow": null,
            "width": null,
            "min_width": null,
            "border": null,
            "align_items": null,
            "bottom": null,
            "_model_module": "@jupyter-widgets/base",
            "top": null,
            "grid_column": null,
            "overflow_y": null,
            "overflow_x": null,
            "grid_auto_flow": null,
            "grid_area": null,
            "grid_template_columns": null,
            "flex": null,
            "_model_name": "LayoutModel",
            "justify_items": null,
            "grid_row": null,
            "max_height": null,
            "align_content": null,
            "visibility": null,
            "align_self": null,
            "height": null,
            "min_height": null,
            "padding": null,
            "grid_auto_rows": null,
            "grid_gap": null,
            "max_width": null,
            "order": null,
            "_view_module_version": "1.2.0",
            "grid_template_areas": null,
            "object_position": null,
            "object_fit": null,
            "grid_auto_columns": null,
            "margin": null,
            "display": null,
            "left": null
          }
        },
        "2754825600d44ddebfb094cb0d04f312": {
          "model_module": "@jupyter-widgets/controls",
          "model_name": "DescriptionStyleModel",
          "state": {
            "_view_name": "StyleView",
            "_model_name": "DescriptionStyleModel",
            "description_width": "",
            "_view_module": "@jupyter-widgets/base",
            "_model_module_version": "1.5.0",
            "_view_count": null,
            "_view_module_version": "1.2.0",
            "_model_module": "@jupyter-widgets/controls"
          }
        },
        "a931353c68a44566ab702205e3a6040e": {
          "model_module": "@jupyter-widgets/base",
          "model_name": "LayoutModel",
          "state": {
            "_view_name": "LayoutView",
            "grid_template_rows": null,
            "right": null,
            "justify_content": null,
            "_view_module": "@jupyter-widgets/base",
            "overflow": null,
            "_model_module_version": "1.2.0",
            "_view_count": null,
            "flex_flow": null,
            "width": null,
            "min_width": null,
            "border": null,
            "align_items": null,
            "bottom": null,
            "_model_module": "@jupyter-widgets/base",
            "top": null,
            "grid_column": null,
            "overflow_y": null,
            "overflow_x": null,
            "grid_auto_flow": null,
            "grid_area": null,
            "grid_template_columns": null,
            "flex": null,
            "_model_name": "LayoutModel",
            "justify_items": null,
            "grid_row": null,
            "max_height": null,
            "align_content": null,
            "visibility": null,
            "align_self": null,
            "height": null,
            "min_height": null,
            "padding": null,
            "grid_auto_rows": null,
            "grid_gap": null,
            "max_width": null,
            "order": null,
            "_view_module_version": "1.2.0",
            "grid_template_areas": null,
            "object_position": null,
            "object_fit": null,
            "grid_auto_columns": null,
            "margin": null,
            "display": null,
            "left": null
          }
        }
      }
    }
  },
  "cells": [
    {
      "cell_type": "markdown",
      "metadata": {
        "id": "view-in-github",
        "colab_type": "text"
      },
      "source": [
        "<a href=\"https://colab.research.google.com/github/SauloSilva/IPCV-2020/blob/main/Assignment_2.ipynb\" target=\"_parent\"><img src=\"https://colab.research.google.com/assets/colab-badge.svg\" alt=\"Open In Colab\"/></a>"
      ]
    },
    {
      "cell_type": "markdown",
      "metadata": {
        "id": "yt4a9i1l-p_-"
      },
      "source": [
        "## **Assignment 2**\n",
        "Intructions for the assignment: [link](https://daniel-yukimura.github.io/ipcv-2020-assignment-2/)\n",
        "\n",
        "### **Part 0: Setup**\n",
        "As in the first assignment you must follow the steps for setting your Google Colab environment - [Assignment-1](https://colab.research.google.com/drive/1t8gHrqvAQ_ip2Dr6nI3JOnkgRiSVqhAd?usp=sharing).\n",
        "While preparing the notebook, we suggest you already import the modules you used in the previous clas. Also, since we'll be doing image classification with larger models, we suggest you already set the runtime of the Colab notebook to work with the GPU setting.\n"
      ]
    },
    {
      "cell_type": "code",
      "metadata": {
        "id": "qRLLUaLs-txJ",
        "outputId": "ba3ea999-3ae0-4697-f2ac-694e4ef8eb33",
        "colab": {
          "base_uri": "https://localhost:8080/"
        }
      },
      "source": [
        "##############################################################################\n",
        "# Setup\n",
        "##############################################################################\n",
        "\n",
        "from google.colab import drive\n",
        "drive.mount('/content/drive')\n",
        "\n",
        "%cd drive/'My Drive'/IPCV-2020/Assignment-2/\n",
        "\n",
        "%load_ext autoreload\n",
        "%autoreload 2\n",
        "\n",
        "import torch\n",
        "print(torch.__version__)\n"
      ],
      "execution_count": 1,
      "outputs": [
        {
          "output_type": "stream",
          "text": [
            "Mounted at /content/drive\n",
            "/content/drive/My Drive/IPCV-2020/Assignment-2\n",
            "1.7.0+cu101\n"
          ],
          "name": "stdout"
        }
      ]
    },
    {
      "cell_type": "code",
      "metadata": {
        "id": "tX59zQQkWKPZ"
      },
      "source": [
        "import os\n",
        "import numpy as np\n",
        "from torchvision import transforms\n",
        "from torchvision.datasets import MNIST\n",
        "from torch.utils.data import random_split, DataLoader\n",
        "import matplotlib.pyplot as plt\n",
        "%matplotlib inline\n",
        "\n",
        "cuda = torch.cuda.is_available()\n",
        "DEVICE = torch.device(\"cuda:0\" if cuda else \"cpu\")\n",
        "\n",
        "def to_cuda(x):\n",
        "  return x.to(DEVICE)"
      ],
      "execution_count": 2,
      "outputs": []
    },
    {
      "cell_type": "markdown",
      "metadata": {
        "id": "y7HbC2jw-z-s"
      },
      "source": [
        "### **Part 1: Convolutional Neural Networks (CNN)**\n",
        "\n",
        "In the first part of this assignment we'll be setting a CNN using PyTorch. For that we'll see how to choose the dimensions and kernel sizes, in order to correctly match the dimensions while modeling a CNN. We start by observing a base example which we'll be using throughout this part of the assignment. We'll be training the model on the MNIST dataset as in the previous assignment."
      ]
    },
    {
      "cell_type": "code",
      "metadata": {
        "id": "3jLCj_dU-1Gl"
      },
      "source": [
        "import torch\n",
        "import torchvision\n",
        "from torch import nn\n",
        "import torch.nn.functional as F\n",
        "\n",
        "class ConvNN(nn.Module):\n",
        "    def __init__(self):\n",
        "        super(ConvNN, self).__init__()\n",
        "        self.cv1 = nn.Conv2d(1,24, kernel_size=5, stride=1, padding=2)\n",
        "        self.cv2 = nn.Conv2d(24,48, kernel_size=5, stride=1, padding=2)\n",
        "        self.fc = nn.Linear(7*7*48, 10)\n",
        "\n",
        "    def forward(self, x):\n",
        "        out = F.relu(F.max_pool2d(self.cv1(x), 2))\n",
        "        out = F.relu(F.max_pool2d(self.cv2(out), 2))\n",
        "        out = out.view(-1,7*7*48)\n",
        "        return self.fc(out)"
      ],
      "execution_count": 3,
      "outputs": []
    },
    {
      "cell_type": "markdown",
      "metadata": {
        "id": "6keI_xUI_uRi"
      },
      "source": [
        "### **Base model**:\n",
        "We'll make a lot of tests and changes based on this model, therefore we recommend that while solving this problems you create test functions in the notebook, or in a python script, in order to reuse your code.\n",
        "\n",
        "For the next exercises you should record the performance of your training using a validation step, you'll use this data for comparing the perfomance between models. We also recommend a list of hyperparameters for the initial setting\n",
        "* number of epochs: 20\n",
        "* learning rate: 0.001\n",
        "* batch size: 64\n",
        "\n",
        "**Instruction:** The goal of the following exercises is to improve the base model. Therefore, we suggest the following practices when doing your analysis:\n",
        "* After each exercise where an improvement is required, we ask that you plot a comparison graph between the perfomances of all changes in question. \n",
        "* Write a brief comment on which one is the best choice, and why is that the case. \n",
        "* You should compare them using the accuracy measure on you validation split. \n",
        "* For the cases where models have similar perfomance, the simpler (less parameters) should be the one to prevail.\n",
        "* After selecting a change, you should maintain this change for the next exercise.\n",
        "* We recommend you get use to saving and loading your models too - [Tutorial](https://pytorch.org/tutorials/beginner/saving_loading_models.html).\n",
        "-----\n",
        "\n",
        "1. Load the MNIST dataset and train the given base model. Here you can essentially use the same settings you have used in the first assingment.\n"
      ]
    },
    {
      "cell_type": "code",
      "metadata": {
        "id": "lTmtPhGt_vCK"
      },
      "source": [
        "##############################################################################\n",
        "# Code\n",
        "##############################################################################\n",
        "\n",
        "# BASE VARS\n",
        "\n",
        "n_epochs = 20\n",
        "batch_size = 64\n",
        "loss = nn.CrossEntropyLoss()\n",
        "\n",
        "# DATA\n",
        "\n",
        "mnist_transform = transforms.Compose([ transforms.ToTensor(), transforms.Normalize((0.1307,), (0.3081,)) ])\n",
        "mnist_data = MNIST(os.getcwd(), train=True, download=True, transform=mnist_transform)\n",
        "mnist_train, mnist_val = random_split(mnist_data, [55000, 5000])\n",
        "mnist_test = MNIST(os.getcwd(), train=False, download=True, transform=mnist_transform)\n",
        "\n",
        "train_loader = DataLoader(mnist_train, batch_size=batch_size)\n",
        "test_loader = DataLoader(mnist_test, batch_size=batch_size)\n",
        "val_loader = DataLoader(mnist_val, batch_size=batch_size)"
      ],
      "execution_count": 4,
      "outputs": []
    },
    {
      "cell_type": "code",
      "metadata": {
        "id": "w9iYQe0gWcNX"
      },
      "source": [
        "import tqdm\n",
        "\n",
        "def test_step(model, loader):\n",
        "  with torch.no_grad():\n",
        "    correct, total, error = 0, 0, 0\n",
        "\n",
        "    for images, labels in loader:\n",
        "      images = to_cuda(images)\n",
        "      labels = to_cuda(labels)\n",
        "      outputs = model(images)\n",
        "\n",
        "      error += loss(outputs, labels)\n",
        "      _, predicted = torch.max(outputs.data, 1)\n",
        "      total = labels.size(0)\n",
        "      correct += (predicted == labels).sum().detach().item()\n",
        "\n",
        "    return correct / total, error / len(loader)\n",
        "\n",
        "def train(model, cfg, save_step=100, num_epochs=20, show=True):\n",
        "  optim_method = getattr(torch.optim, cfg.get('optim', 'SGD'))\n",
        "  optim = optim_method(model.parameters(), lr=cfg.get(\"learning_rate\", 0.01))\n",
        "\n",
        "  val_loss = []\n",
        "  val_acc = []\n",
        "\n",
        "  count = 0\n",
        "  outer_bar = tqdm.notebook.tqdm(total=num_epochs, desc=\"Epochs\", position=0)\n",
        "  inner_bar = tqdm.notebook.tqdm(total=len(mnist_train) / batch_size, desc=\"Epochs\", position=1)\n",
        "  loss_bar = tqdm.notebook.tqdm(total=len(mnist_train) / batch_size, bar_format=\"{postfix[0]} {postfix[1][loss]:>8.2g}\", postfix=[\"Loss\", dict(loss=0)])\n",
        "\n",
        "  for epoch in range(num_epochs):\n",
        "    inner_bar.reset()\n",
        "    loss_bar.reset()\n",
        "\n",
        "    for idx, (img_batch, y_batch) in enumerate(train_loader):\n",
        "      img_batch = to_cuda(img_batch)\n",
        "      y_batch = to_cuda(y_batch)\n",
        "\n",
        "      y_pred = model(img_batch)\n",
        "      error = loss(y_pred, y_batch)\n",
        "\n",
        "      optim.zero_grad()\n",
        "      error.backward()\n",
        "      optim.step()\n",
        "\n",
        "      inner_bar.update()\n",
        "      loss_bar.postfix[1][\"loss\"] = error.item()\n",
        "      loss_bar.update()\n",
        "      count += 1\n",
        "\n",
        "      if (count + 1) % save_step == 0:\n",
        "        acc, loss_val = test_step(model, val_loader)\n",
        "        val_acc.append(acc)\n",
        "        val_loss.append(loss_val)\n",
        "\n",
        "        if (count + 1) % save_step == 0 and show:\n",
        "          print(\"Acurracy: {}\".format(100 * acc))\n",
        "\n",
        "    outer_bar.update()\n",
        "  return val_loss, val_acc\n"
      ],
      "execution_count": 30,
      "outputs": []
    },
    {
      "cell_type": "code",
      "metadata": {
        "id": "QbAoP64-WflN",
        "outputId": "8163c350-bf9a-492d-ca8e-e4caea60ad16",
        "colab": {
          "base_uri": "https://localhost:8080/",
          "height": 1000,
          "referenced_widgets": [
            "0f82e017cadd46b89502a4ab2f56a5b7",
            "9619b8b650c14d978ca7cadbbad122d1",
            "18da8315a6ee412c998bf5374b7498af",
            "76073b43cf6d433aa54fab5b2edf8f0f",
            "5b746691e65840498eb927db015b54af",
            "23e9a92e5bbe412fa51a843c5a7f4a9f",
            "42da3736a6094b4ab2f2366bf583d7d3",
            "55cb883fbe294270a360c984e4d0e100",
            "ff35a2dae6fb46e08c75bd7d02572069",
            "e2b4fae626174255bb6660feadaead2b",
            "f6d3f1b1eb644fb89f073c61a76b2d4f",
            "e68043f737904fb3a114788acfad9a58",
            "2cccf8b44a2443f98297aea30fe3f757",
            "519115e3ca034f83b760201ff762364f",
            "0dc6dff2a1d240d39a1f7a84ae0ef6ab",
            "d9e845279d954c45a29d8a7bd4b8a8a2",
            "a45136cfc4f94399a2f0fc9d98217093",
            "4dc8bef724be42b1ac71f5075870666a",
            "cac876e5d89d44848d90542c0e102ac8",
            "0bb706e10b79484284f362dce8029835",
            "f7ff054f1fcf48a9ab8e2a727cdca021",
            "92c262c122774f26988879e6ec1a3df7",
            "2754825600d44ddebfb094cb0d04f312",
            "a931353c68a44566ab702205e3a6040e"
          ]
        }
      },
      "source": [
        "CNN = to_cuda(ConvNN())\n",
        "cfg = {\"learning_rate\": 0.001, \"optim\": \"SGD\"}\n",
        "\n",
        "val_loss, val_acc = train(CNN, cfg)"
      ],
      "execution_count": null,
      "outputs": [
        {
          "output_type": "display_data",
          "data": {
            "application/vnd.jupyter.widget-view+json": {
              "model_id": "0f82e017cadd46b89502a4ab2f56a5b7",
              "version_minor": 0,
              "version_major": 2
            },
            "text/plain": [
              "HBox(children=(FloatProgress(value=0.0, description='Epochs', max=20.0, style=ProgressStyle(description_width=…"
            ]
          },
          "metadata": {
            "tags": []
          }
        },
        {
          "output_type": "display_data",
          "data": {
            "application/vnd.jupyter.widget-view+json": {
              "model_id": "ff35a2dae6fb46e08c75bd7d02572069",
              "version_minor": 0,
              "version_major": 2
            },
            "text/plain": [
              "HBox(children=(FloatProgress(value=0.0, description='Epochs', max=859.375, style=ProgressStyle(description_wid…"
            ]
          },
          "metadata": {
            "tags": []
          }
        },
        {
          "output_type": "display_data",
          "data": {
            "application/vnd.jupyter.widget-view+json": {
              "model_id": "a45136cfc4f94399a2f0fc9d98217093",
              "version_minor": 0,
              "version_major": 2
            },
            "text/plain": [
              "HBox(children=(FloatProgress(value=0.0, max=859.375), HTML(value='')))"
            ]
          },
          "metadata": {
            "tags": []
          }
        },
        {
          "output_type": "stream",
          "text": [
            "Acurracy: 19112.5\n",
            "Acurracy: 34837.5\n",
            "Acurracy: 41575.0\n",
            "Acurracy: 45250.0\n",
            "Acurracy: 46350.0\n",
            "Acurracy: 46987.5\n",
            "Acurracy: 49987.5\n",
            "Acurracy: 51537.5\n",
            "Acurracy: 52975.0\n",
            "Acurracy: 53900.0\n",
            "Acurracy: 54162.5\n",
            "Acurracy: 54575.0\n",
            "Acurracy: 55137.5\n",
            "Acurracy: 55125.0\n",
            "Acurracy: 55850.0\n",
            "Acurracy: 56025.0\n",
            "Acurracy: 56362.5\n",
            "Acurracy: 56525.0\n",
            "Acurracy: 56625.0\n",
            "Acurracy: 56687.5\n",
            "Acurracy: 56762.5\n",
            "Acurracy: 57025.0\n",
            "Acurracy: 57187.5\n",
            "Acurracy: 57275.0\n",
            "Acurracy: 57250.0\n",
            "Acurracy: 57350.0\n",
            "Acurracy: 57575.0\n",
            "Acurracy: 57425.0\n",
            "Acurracy: 57487.5\n",
            "Acurracy: 57862.5\n",
            "Acurracy: 57812.5\n",
            "Acurracy: 58125.0\n",
            "Acurracy: 57987.5\n",
            "Acurracy: 58162.5\n",
            "Acurracy: 58100.0\n",
            "Acurracy: 58200.0\n",
            "Acurracy: 58387.5\n",
            "Acurracy: 58300.0\n",
            "Acurracy: 58325.0\n",
            "Acurracy: 58437.5\n",
            "Acurracy: 58500.0\n",
            "Acurracy: 58375.0\n",
            "Acurracy: 58487.5\n",
            "Acurracy: 58787.5\n",
            "Acurracy: 58725.0\n",
            "Acurracy: 58712.5\n",
            "Acurracy: 58875.0\n",
            "Acurracy: 58775.0\n",
            "Acurracy: 58912.5\n",
            "Acurracy: 59037.5\n",
            "Acurracy: 58975.0\n",
            "Acurracy: 59025.0\n",
            "Acurracy: 59075.0\n",
            "Acurracy: 59150.0\n",
            "Acurracy: 59250.0\n",
            "Acurracy: 59225.0\n",
            "Acurracy: 59212.5\n",
            "Acurracy: 59325.0\n"
          ],
          "name": "stdout"
        }
      ]
    },
    {
      "cell_type": "markdown",
      "metadata": {
        "id": "6q9JTclh_xF9"
      },
      "source": [
        "### **Optimization**\n",
        "\n",
        "2. Your first task is to improve the optimization setting you're using. You should compare the standard SGD (`torch.optim.SGD`) with the **Adam** algorithm (`torch.optim.Adam`). \n",
        "\n",
        "Adam combines other two extensions of stochastic gradient descent:\n",
        "* Adaptive Gradient Algorithm (AdaGrad)\n",
        "* Root Mean Square Propagation (RMSProp)\n",
        "\n",
        "Its parameters are:\n",
        "* **learning_rate** (or **alpha**): Also referred to as the learning rate or step size. The proportion that weights are updated (e.g. 0.001). Larger values (e.g. 0.3) results in faster initial learning before the rate is updated. Smaller values (e.g. 1.0E-5) slow learning right down during training\n",
        "* **beta1**: The exponential decay rate for the first moment estimates (e.g. 0.9).\n",
        "* **beta2**: The exponential decay rate for the second-moment estimates (e.g. 0.999). This value should be set close to 1.0 on problems with a sparse gradient (e.g. NLP and computer vision problems).\n",
        "* **epsilon**: Is a very small number to prevent any division by zero in the implementation (e.g. 10E-8). \n",
        "\n",
        "**Testing**: The recommended choice of parameters for using with Adam are the following\n",
        "* learning_rate=0.001, beta1=0.9, beta2=0.999, epsilon=1e-8\n",
        "\n",
        "But we ask you to test other values for the learning rate too, in particular the learning rates 0.0001, 0.001, 0.01."
      ]
    },
    {
      "cell_type": "code",
      "metadata": {
        "id": "pp5cc_N7_zKm"
      },
      "source": [
        "##############################################################################\n",
        "# Code\n",
        "##############################################################################"
      ],
      "execution_count": null,
      "outputs": []
    },
    {
      "cell_type": "markdown",
      "metadata": {
        "id": "3Vat-BS9_1Og"
      },
      "source": [
        "### **Number of Layers**\n",
        "Consider the following notation:\n",
        "* **24C5** means a convolution layer with 24 feature maps using a 5x5 filter and stride 1\n",
        "* **24C5S2** means a convolution layer with 24 feature maps using a 5x5 filter and stride 2\n",
        "* **P2** means max pooling using 2x2 filter and stride 2\n",
        "* **256** means fully connected dense layer with 256 units\n",
        "\n",
        "Then our base model can be described as\n",
        "* input - [24C5-P2] - [48C5-P2] - 10\n",
        "\n",
        "3. The base model contains two convolutional blocks (convolutional layer + pooling). Compare the present model with the following two:\n",
        "* input - [24C5-P2] - 256 - 10\n",
        "* input - [24C5-P2] - [48C5-P2] - [64C5-P2] - 10"
      ]
    },
    {
      "cell_type": "code",
      "metadata": {
        "id": "yqD8Kofu_33S"
      },
      "source": [
        "##############################################################################\n",
        "# Code\n",
        "##############################################################################"
      ],
      "execution_count": null,
      "outputs": []
    },
    {
      "cell_type": "markdown",
      "metadata": {
        "id": "1bTpCyHe_5zq"
      },
      "source": [
        "### **Feature maps**\n",
        "Convolutional layers work by transforming feature representations in new ones using a collection of filters (convolutional kernels). There's no rigorous rule on how to choose how many filter should one use, as is the case for the number of fully connected layers. Therefore, one must in general test different architectures, while following known reccomendations.\n",
        "\n",
        "4. Test your present model changing the number of feature maps in each convolutional layer. Here we present a recomendation of possible choices for the number of features, assuming the network has two convolutional layers\n",
        "* input - [8C5-P2] - [16C5-P2] - 10\n",
        "* input - [16C5-P2] - [32C5-P2] - 10\n",
        "* input - [24C5-P2] - [48C5-P2] - 10\n",
        "* input - [32C5-P2] - [64C5-P2] - 10\n",
        "* input - [48C5-P2] - [96C5-P2] - 10\n",
        "* input - [64C5-P2] - [128C5-P2] - 10\n",
        "\n",
        "If the model has different one, three or more layers, than the above should be adjusted equivalently for the present case."
      ]
    },
    {
      "cell_type": "code",
      "metadata": {
        "id": "7lLbkBnV_8Xl"
      },
      "source": [
        "##############################################################################\n",
        "# Code\n",
        "##############################################################################"
      ],
      "execution_count": null,
      "outputs": []
    },
    {
      "cell_type": "markdown",
      "metadata": {
        "id": "pvWb0xIu_97O"
      },
      "source": [
        "### **Dense layer**\n",
        "As of right now, we flatten and the output of our last convolutional layer and connect it into a dense layer, that provides the classification scores.\n",
        "\n",
        "5. Add a hidden dense layer between the last convolutional layer and the last layer and compare the present model with the new one. Test hidden dense layers of sizes: 16, 64, 128, 256, 512, 1024."
      ]
    },
    {
      "cell_type": "code",
      "metadata": {
        "id": "JTyym2aYAAnO"
      },
      "source": [
        "##############################################################################\n",
        "# Code\n",
        "##############################################################################"
      ],
      "execution_count": null,
      "outputs": []
    },
    {
      "cell_type": "markdown",
      "metadata": {
        "id": "Ds5m3NMwACwY"
      },
      "source": [
        "### **Dropout**\n",
        "Dropout is a regularization technique that consists on temporarily droping out different sets of connections, chosen randomly, during training. Heuristically, dropout can be seen as simulating the training of simpler subnetworks simultaneously. Simpler networks are less prone to overfit, and thats the purpose of using it during training.\n",
        "\n",
        "* [Dropout](https://pytorch.org/docs/stable/generated/torch.nn.Dropout.html)\n",
        "* [Dropout2d](https://pytorch.org/docs/stable/generated/torch.nn.Dropout2d.html)\n",
        "\n",
        "6. Add dropout layers in between each layer. These layers have a parameter `p` that tells the probability of a neuron to be dropped. Test the present model with the one using dropout for different values fo `p`. We recommend testing `p = 0.3, 0.4, 0.5, 0.6, 0.7`.\n",
        "\n"
      ]
    },
    {
      "cell_type": "code",
      "metadata": {
        "id": "E9tJCo_VAFIq"
      },
      "source": [
        "##############################################################################\n",
        "# Code\n",
        "##############################################################################"
      ],
      "execution_count": null,
      "outputs": []
    },
    {
      "cell_type": "markdown",
      "metadata": {
        "id": "NDseJM0LAGtq"
      },
      "source": [
        "### **Batch Normalization**\n",
        "\n",
        "Batch normalization works by computing the mean and standard deviation of each minibatch, and renormalizing the batch accordingly. It also maintain two learnable parameters that compensate the randomness coming from the batch sampling.\n",
        "* [functional.batch_norm](https://pytorch.org/docs/stable/nn.functional.html#batch-norm)\n",
        "* [BatchNorm2d](https://pytorch.org/docs/stable/generated/torch.nn.BatchNorm2d.html)\n",
        "\n",
        "7. Add Batch Normalization layers to the model, and compare with your current state."
      ]
    },
    {
      "cell_type": "code",
      "metadata": {
        "id": "rXXA78_WFbAO"
      },
      "source": [
        ""
      ],
      "execution_count": null,
      "outputs": []
    },
    {
      "cell_type": "markdown",
      "metadata": {
        "id": "fSb81rV5ALh9"
      },
      "source": [
        "### **Extra**:\n",
        "At this point, your network should have reached around more then 99% precision.\n",
        "Nevertheless there are some archtecture changes that can sometimes improve even more the performance of your model.\n",
        "\n",
        "8. Replace each conv. layer with 5x5 kernels in your network by two consecutive conv. layers with 3x3 kernels. For example, try replacing '32C5' with '32C3-32C3'. The two layers similarly mimic the 5x5 layer, but add more nonlinearities.\n",
        "\n",
        "9. Instead of using a maxpooling layer you can replace it by another convolutional layer that has stride 2, and therefore perfomes a subsampling, but in a learnable way. That would mean, for example, to replace'P2' with a'32C5S2'."
      ]
    },
    {
      "cell_type": "code",
      "metadata": {
        "id": "Efik2bH8HHE4"
      },
      "source": [
        ""
      ],
      "execution_count": null,
      "outputs": []
    }
  ]
}