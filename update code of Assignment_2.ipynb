{
  "nbformat": 4,
  "nbformat_minor": 0,
  "metadata": {
    "colab": {
      "name": "Assignment-2.ipynb",
      "provenance": [],
      "collapsed_sections": [],
      "authorship_tag": "ABX9TyMlYN6W/2xDsH325gAMo+rV",
      "include_colab_link": true
    },
    "kernelspec": {
      "name": "python3",
      "display_name": "Python 3"
    },
    "accelerator": "GPU",
    "widgets": {
      "application/vnd.jupyter.widget-state+json": {
        "8f1fa40e67e1442381786ac960f8e647": {
          "model_module": "@jupyter-widgets/controls",
          "model_name": "HBoxModel",
          "state": {
            "_view_name": "HBoxView",
            "_dom_classes": [],
            "_model_name": "HBoxModel",
            "_view_module": "@jupyter-widgets/controls",
            "_model_module_version": "1.5.0",
            "_view_count": null,
            "_view_module_version": "1.5.0",
            "box_style": "",
            "layout": "IPY_MODEL_ee6ef460958f481dbe538a82cab8d1a8",
            "_model_module": "@jupyter-widgets/controls",
            "children": [
              "IPY_MODEL_2e99a7926dfd4b70a96a45a4cc9ea684",
              "IPY_MODEL_8115f77f51cb48e69b5c06a076c00ba5"
            ]
          }
        },
        "ee6ef460958f481dbe538a82cab8d1a8": {
          "model_module": "@jupyter-widgets/base",
          "model_name": "LayoutModel",
          "state": {
            "_view_name": "LayoutView",
            "grid_template_rows": null,
            "right": null,
            "justify_content": null,
            "_view_module": "@jupyter-widgets/base",
            "overflow": null,
            "_model_module_version": "1.2.0",
            "_view_count": null,
            "flex_flow": null,
            "width": null,
            "min_width": null,
            "border": null,
            "align_items": null,
            "bottom": null,
            "_model_module": "@jupyter-widgets/base",
            "top": null,
            "grid_column": null,
            "overflow_y": null,
            "overflow_x": null,
            "grid_auto_flow": null,
            "grid_area": null,
            "grid_template_columns": null,
            "flex": null,
            "_model_name": "LayoutModel",
            "justify_items": null,
            "grid_row": null,
            "max_height": null,
            "align_content": null,
            "visibility": null,
            "align_self": null,
            "height": null,
            "min_height": null,
            "padding": null,
            "grid_auto_rows": null,
            "grid_gap": null,
            "max_width": null,
            "order": null,
            "_view_module_version": "1.2.0",
            "grid_template_areas": null,
            "object_position": null,
            "object_fit": null,
            "grid_auto_columns": null,
            "margin": null,
            "display": null,
            "left": null
          }
        },
        "2e99a7926dfd4b70a96a45a4cc9ea684": {
          "model_module": "@jupyter-widgets/controls",
          "model_name": "FloatProgressModel",
          "state": {
            "_view_name": "ProgressView",
            "style": "IPY_MODEL_5a7522b98b674ee58da9ddf69c6cc479",
            "_dom_classes": [],
            "description": "Epochs: 100%",
            "_model_name": "FloatProgressModel",
            "bar_style": "",
            "max": 20,
            "_view_module": "@jupyter-widgets/controls",
            "_model_module_version": "1.5.0",
            "value": 20,
            "_view_count": null,
            "_view_module_version": "1.5.0",
            "orientation": "horizontal",
            "min": 0,
            "description_tooltip": null,
            "_model_module": "@jupyter-widgets/controls",
            "layout": "IPY_MODEL_1deaf665cc17400bae6083a9b424a046"
          }
        },
        "8115f77f51cb48e69b5c06a076c00ba5": {
          "model_module": "@jupyter-widgets/controls",
          "model_name": "HTMLModel",
          "state": {
            "_view_name": "HTMLView",
            "style": "IPY_MODEL_580a850c41e64c308f0be611774f68ed",
            "_dom_classes": [],
            "description": "",
            "_model_name": "HTMLModel",
            "placeholder": "​",
            "_view_module": "@jupyter-widgets/controls",
            "_model_module_version": "1.5.0",
            "value": " 20/20 [07:20&lt;00:00, 21.81s/it]",
            "_view_count": null,
            "_view_module_version": "1.5.0",
            "description_tooltip": null,
            "_model_module": "@jupyter-widgets/controls",
            "layout": "IPY_MODEL_bdcb50d84c4048dc8b7431c269dec3b8"
          }
        },
        "5a7522b98b674ee58da9ddf69c6cc479": {
          "model_module": "@jupyter-widgets/controls",
          "model_name": "ProgressStyleModel",
          "state": {
            "_view_name": "StyleView",
            "_model_name": "ProgressStyleModel",
            "description_width": "initial",
            "_view_module": "@jupyter-widgets/base",
            "_model_module_version": "1.5.0",
            "_view_count": null,
            "_view_module_version": "1.2.0",
            "bar_color": null,
            "_model_module": "@jupyter-widgets/controls"
          }
        },
        "1deaf665cc17400bae6083a9b424a046": {
          "model_module": "@jupyter-widgets/base",
          "model_name": "LayoutModel",
          "state": {
            "_view_name": "LayoutView",
            "grid_template_rows": null,
            "right": null,
            "justify_content": null,
            "_view_module": "@jupyter-widgets/base",
            "overflow": null,
            "_model_module_version": "1.2.0",
            "_view_count": null,
            "flex_flow": null,
            "width": null,
            "min_width": null,
            "border": null,
            "align_items": null,
            "bottom": null,
            "_model_module": "@jupyter-widgets/base",
            "top": null,
            "grid_column": null,
            "overflow_y": null,
            "overflow_x": null,
            "grid_auto_flow": null,
            "grid_area": null,
            "grid_template_columns": null,
            "flex": null,
            "_model_name": "LayoutModel",
            "justify_items": null,
            "grid_row": null,
            "max_height": null,
            "align_content": null,
            "visibility": null,
            "align_self": null,
            "height": null,
            "min_height": null,
            "padding": null,
            "grid_auto_rows": null,
            "grid_gap": null,
            "max_width": null,
            "order": null,
            "_view_module_version": "1.2.0",
            "grid_template_areas": null,
            "object_position": null,
            "object_fit": null,
            "grid_auto_columns": null,
            "margin": null,
            "display": null,
            "left": null
          }
        },
        "580a850c41e64c308f0be611774f68ed": {
          "model_module": "@jupyter-widgets/controls",
          "model_name": "DescriptionStyleModel",
          "state": {
            "_view_name": "StyleView",
            "_model_name": "DescriptionStyleModel",
            "description_width": "",
            "_view_module": "@jupyter-widgets/base",
            "_model_module_version": "1.5.0",
            "_view_count": null,
            "_view_module_version": "1.2.0",
            "_model_module": "@jupyter-widgets/controls"
          }
        },
        "bdcb50d84c4048dc8b7431c269dec3b8": {
          "model_module": "@jupyter-widgets/base",
          "model_name": "LayoutModel",
          "state": {
            "_view_name": "LayoutView",
            "grid_template_rows": null,
            "right": null,
            "justify_content": null,
            "_view_module": "@jupyter-widgets/base",
            "overflow": null,
            "_model_module_version": "1.2.0",
            "_view_count": null,
            "flex_flow": null,
            "width": null,
            "min_width": null,
            "border": null,
            "align_items": null,
            "bottom": null,
            "_model_module": "@jupyter-widgets/base",
            "top": null,
            "grid_column": null,
            "overflow_y": null,
            "overflow_x": null,
            "grid_auto_flow": null,
            "grid_area": null,
            "grid_template_columns": null,
            "flex": null,
            "_model_name": "LayoutModel",
            "justify_items": null,
            "grid_row": null,
            "max_height": null,
            "align_content": null,
            "visibility": null,
            "align_self": null,
            "height": null,
            "min_height": null,
            "padding": null,
            "grid_auto_rows": null,
            "grid_gap": null,
            "max_width": null,
            "order": null,
            "_view_module_version": "1.2.0",
            "grid_template_areas": null,
            "object_position": null,
            "object_fit": null,
            "grid_auto_columns": null,
            "margin": null,
            "display": null,
            "left": null
          }
        },
        "84da8365a21649a6b8bf988569b52817": {
          "model_module": "@jupyter-widgets/controls",
          "model_name": "HBoxModel",
          "state": {
            "_view_name": "HBoxView",
            "_dom_classes": [],
            "_model_name": "HBoxModel",
            "_view_module": "@jupyter-widgets/controls",
            "_model_module_version": "1.5.0",
            "_view_count": null,
            "_view_module_version": "1.5.0",
            "box_style": "",
            "layout": "IPY_MODEL_6ecf95fe7ea9456b954e8c79c7cca615",
            "_model_module": "@jupyter-widgets/controls",
            "children": [
              "IPY_MODEL_854cbc3beaa44b2da3afd801bed319e8",
              "IPY_MODEL_c1a04ee313b4455d9d7e404e032c93c0"
            ]
          }
        },
        "6ecf95fe7ea9456b954e8c79c7cca615": {
          "model_module": "@jupyter-widgets/base",
          "model_name": "LayoutModel",
          "state": {
            "_view_name": "LayoutView",
            "grid_template_rows": null,
            "right": null,
            "justify_content": null,
            "_view_module": "@jupyter-widgets/base",
            "overflow": null,
            "_model_module_version": "1.2.0",
            "_view_count": null,
            "flex_flow": null,
            "width": null,
            "min_width": null,
            "border": null,
            "align_items": null,
            "bottom": null,
            "_model_module": "@jupyter-widgets/base",
            "top": null,
            "grid_column": null,
            "overflow_y": null,
            "overflow_x": null,
            "grid_auto_flow": null,
            "grid_area": null,
            "grid_template_columns": null,
            "flex": null,
            "_model_name": "LayoutModel",
            "justify_items": null,
            "grid_row": null,
            "max_height": null,
            "align_content": null,
            "visibility": null,
            "align_self": null,
            "height": null,
            "min_height": null,
            "padding": null,
            "grid_auto_rows": null,
            "grid_gap": null,
            "max_width": null,
            "order": null,
            "_view_module_version": "1.2.0",
            "grid_template_areas": null,
            "object_position": null,
            "object_fit": null,
            "grid_auto_columns": null,
            "margin": null,
            "display": null,
            "left": null
          }
        },
        "854cbc3beaa44b2da3afd801bed319e8": {
          "model_module": "@jupyter-widgets/controls",
          "model_name": "FloatProgressModel",
          "state": {
            "_view_name": "ProgressView",
            "style": "IPY_MODEL_0b52a536b89e4ffd804e208e4b17f609",
            "_dom_classes": [],
            "description": "Epochs: ",
            "_model_name": "FloatProgressModel",
            "bar_style": "",
            "max": 859.375,
            "_view_module": "@jupyter-widgets/controls",
            "_model_module_version": "1.5.0",
            "value": 859.375,
            "_view_count": null,
            "_view_module_version": "1.5.0",
            "orientation": "horizontal",
            "min": 0,
            "description_tooltip": null,
            "_model_module": "@jupyter-widgets/controls",
            "layout": "IPY_MODEL_ea36a6cb35424f7c8f21c339e0b48b9b"
          }
        },
        "c1a04ee313b4455d9d7e404e032c93c0": {
          "model_module": "@jupyter-widgets/controls",
          "model_name": "HTMLModel",
          "state": {
            "_view_name": "HTMLView",
            "style": "IPY_MODEL_a8b1f6d40530488ca65d4fea4488f356",
            "_dom_classes": [],
            "description": "",
            "_model_name": "HTMLModel",
            "placeholder": "​",
            "_view_module": "@jupyter-widgets/controls",
            "_model_module_version": "1.5.0",
            "value": " 860/? [00:40&lt;00:00, 62.80it/s]",
            "_view_count": null,
            "_view_module_version": "1.5.0",
            "description_tooltip": null,
            "_model_module": "@jupyter-widgets/controls",
            "layout": "IPY_MODEL_7860bd3fae284724b07f3ee3f51317df"
          }
        },
        "0b52a536b89e4ffd804e208e4b17f609": {
          "model_module": "@jupyter-widgets/controls",
          "model_name": "ProgressStyleModel",
          "state": {
            "_view_name": "StyleView",
            "_model_name": "ProgressStyleModel",
            "description_width": "initial",
            "_view_module": "@jupyter-widgets/base",
            "_model_module_version": "1.5.0",
            "_view_count": null,
            "_view_module_version": "1.2.0",
            "bar_color": null,
            "_model_module": "@jupyter-widgets/controls"
          }
        },
        "ea36a6cb35424f7c8f21c339e0b48b9b": {
          "model_module": "@jupyter-widgets/base",
          "model_name": "LayoutModel",
          "state": {
            "_view_name": "LayoutView",
            "grid_template_rows": null,
            "right": null,
            "justify_content": null,
            "_view_module": "@jupyter-widgets/base",
            "overflow": null,
            "_model_module_version": "1.2.0",
            "_view_count": null,
            "flex_flow": null,
            "width": null,
            "min_width": null,
            "border": null,
            "align_items": null,
            "bottom": null,
            "_model_module": "@jupyter-widgets/base",
            "top": null,
            "grid_column": null,
            "overflow_y": null,
            "overflow_x": null,
            "grid_auto_flow": null,
            "grid_area": null,
            "grid_template_columns": null,
            "flex": null,
            "_model_name": "LayoutModel",
            "justify_items": null,
            "grid_row": null,
            "max_height": null,
            "align_content": null,
            "visibility": null,
            "align_self": null,
            "height": null,
            "min_height": null,
            "padding": null,
            "grid_auto_rows": null,
            "grid_gap": null,
            "max_width": null,
            "order": null,
            "_view_module_version": "1.2.0",
            "grid_template_areas": null,
            "object_position": null,
            "object_fit": null,
            "grid_auto_columns": null,
            "margin": null,
            "display": null,
            "left": null
          }
        },
        "a8b1f6d40530488ca65d4fea4488f356": {
          "model_module": "@jupyter-widgets/controls",
          "model_name": "DescriptionStyleModel",
          "state": {
            "_view_name": "StyleView",
            "_model_name": "DescriptionStyleModel",
            "description_width": "",
            "_view_module": "@jupyter-widgets/base",
            "_model_module_version": "1.5.0",
            "_view_count": null,
            "_view_module_version": "1.2.0",
            "_model_module": "@jupyter-widgets/controls"
          }
        },
        "7860bd3fae284724b07f3ee3f51317df": {
          "model_module": "@jupyter-widgets/base",
          "model_name": "LayoutModel",
          "state": {
            "_view_name": "LayoutView",
            "grid_template_rows": null,
            "right": null,
            "justify_content": null,
            "_view_module": "@jupyter-widgets/base",
            "overflow": null,
            "_model_module_version": "1.2.0",
            "_view_count": null,
            "flex_flow": null,
            "width": null,
            "min_width": null,
            "border": null,
            "align_items": null,
            "bottom": null,
            "_model_module": "@jupyter-widgets/base",
            "top": null,
            "grid_column": null,
            "overflow_y": null,
            "overflow_x": null,
            "grid_auto_flow": null,
            "grid_area": null,
            "grid_template_columns": null,
            "flex": null,
            "_model_name": "LayoutModel",
            "justify_items": null,
            "grid_row": null,
            "max_height": null,
            "align_content": null,
            "visibility": null,
            "align_self": null,
            "height": null,
            "min_height": null,
            "padding": null,
            "grid_auto_rows": null,
            "grid_gap": null,
            "max_width": null,
            "order": null,
            "_view_module_version": "1.2.0",
            "grid_template_areas": null,
            "object_position": null,
            "object_fit": null,
            "grid_auto_columns": null,
            "margin": null,
            "display": null,
            "left": null
          }
        },
        "d162434bf3a14c9c92886954c21d2dd4": {
          "model_module": "@jupyter-widgets/controls",
          "model_name": "HBoxModel",
          "state": {
            "_view_name": "HBoxView",
            "_dom_classes": [],
            "_model_name": "HBoxModel",
            "_view_module": "@jupyter-widgets/controls",
            "_model_module_version": "1.5.0",
            "_view_count": null,
            "_view_module_version": "1.5.0",
            "box_style": "",
            "layout": "IPY_MODEL_4f9a4da5b3a348f0a0acb6d3f8e676f9",
            "_model_module": "@jupyter-widgets/controls",
            "children": [
              "IPY_MODEL_ad9e13f1e0c843ff941bbbfe6044a605",
              "IPY_MODEL_726fb7a30a9f46c09d03a87a33d198dc"
            ]
          }
        },
        "4f9a4da5b3a348f0a0acb6d3f8e676f9": {
          "model_module": "@jupyter-widgets/base",
          "model_name": "LayoutModel",
          "state": {
            "_view_name": "LayoutView",
            "grid_template_rows": null,
            "right": null,
            "justify_content": null,
            "_view_module": "@jupyter-widgets/base",
            "overflow": null,
            "_model_module_version": "1.2.0",
            "_view_count": null,
            "flex_flow": null,
            "width": null,
            "min_width": null,
            "border": null,
            "align_items": null,
            "bottom": null,
            "_model_module": "@jupyter-widgets/base",
            "top": null,
            "grid_column": null,
            "overflow_y": null,
            "overflow_x": null,
            "grid_auto_flow": null,
            "grid_area": null,
            "grid_template_columns": null,
            "flex": null,
            "_model_name": "LayoutModel",
            "justify_items": null,
            "grid_row": null,
            "max_height": null,
            "align_content": null,
            "visibility": null,
            "align_self": null,
            "height": null,
            "min_height": null,
            "padding": null,
            "grid_auto_rows": null,
            "grid_gap": null,
            "max_width": null,
            "order": null,
            "_view_module_version": "1.2.0",
            "grid_template_areas": null,
            "object_position": null,
            "object_fit": null,
            "grid_auto_columns": null,
            "margin": null,
            "display": null,
            "left": null
          }
        },
        "ad9e13f1e0c843ff941bbbfe6044a605": {
          "model_module": "@jupyter-widgets/controls",
          "model_name": "FloatProgressModel",
          "state": {
            "_view_name": "ProgressView",
            "style": "IPY_MODEL_02e9cf170edc4ca28d46ba9326ea8616",
            "_dom_classes": [],
            "description": "",
            "_model_name": "FloatProgressModel",
            "bar_style": "",
            "max": 859.375,
            "_view_module": "@jupyter-widgets/controls",
            "_model_module_version": "1.5.0",
            "value": 859.375,
            "_view_count": null,
            "_view_module_version": "1.5.0",
            "orientation": "horizontal",
            "min": 0,
            "description_tooltip": null,
            "_model_module": "@jupyter-widgets/controls",
            "layout": "IPY_MODEL_0cace258566f492085406942c4a253bd"
          }
        },
        "726fb7a30a9f46c09d03a87a33d198dc": {
          "model_module": "@jupyter-widgets/controls",
          "model_name": "HTMLModel",
          "state": {
            "_view_name": "HTMLView",
            "style": "IPY_MODEL_6ea59728fba9410b9711635282121229",
            "_dom_classes": [],
            "description": "",
            "_model_name": "HTMLModel",
            "placeholder": "​",
            "_view_module": "@jupyter-widgets/controls",
            "_model_module_version": "1.5.0",
            "value": "Loss     0.08",
            "_view_count": null,
            "_view_module_version": "1.5.0",
            "description_tooltip": null,
            "_model_module": "@jupyter-widgets/controls",
            "layout": "IPY_MODEL_26dfb9d4fa364aebb40c5678025605aa"
          }
        },
        "02e9cf170edc4ca28d46ba9326ea8616": {
          "model_module": "@jupyter-widgets/controls",
          "model_name": "ProgressStyleModel",
          "state": {
            "_view_name": "StyleView",
            "_model_name": "ProgressStyleModel",
            "description_width": "initial",
            "_view_module": "@jupyter-widgets/base",
            "_model_module_version": "1.5.0",
            "_view_count": null,
            "_view_module_version": "1.2.0",
            "bar_color": null,
            "_model_module": "@jupyter-widgets/controls"
          }
        },
        "0cace258566f492085406942c4a253bd": {
          "model_module": "@jupyter-widgets/base",
          "model_name": "LayoutModel",
          "state": {
            "_view_name": "LayoutView",
            "grid_template_rows": null,
            "right": null,
            "justify_content": null,
            "_view_module": "@jupyter-widgets/base",
            "overflow": null,
            "_model_module_version": "1.2.0",
            "_view_count": null,
            "flex_flow": null,
            "width": null,
            "min_width": null,
            "border": null,
            "align_items": null,
            "bottom": null,
            "_model_module": "@jupyter-widgets/base",
            "top": null,
            "grid_column": null,
            "overflow_y": null,
            "overflow_x": null,
            "grid_auto_flow": null,
            "grid_area": null,
            "grid_template_columns": null,
            "flex": null,
            "_model_name": "LayoutModel",
            "justify_items": null,
            "grid_row": null,
            "max_height": null,
            "align_content": null,
            "visibility": null,
            "align_self": null,
            "height": null,
            "min_height": null,
            "padding": null,
            "grid_auto_rows": null,
            "grid_gap": null,
            "max_width": null,
            "order": null,
            "_view_module_version": "1.2.0",
            "grid_template_areas": null,
            "object_position": null,
            "object_fit": null,
            "grid_auto_columns": null,
            "margin": null,
            "display": null,
            "left": null
          }
        },
        "6ea59728fba9410b9711635282121229": {
          "model_module": "@jupyter-widgets/controls",
          "model_name": "DescriptionStyleModel",
          "state": {
            "_view_name": "StyleView",
            "_model_name": "DescriptionStyleModel",
            "description_width": "",
            "_view_module": "@jupyter-widgets/base",
            "_model_module_version": "1.5.0",
            "_view_count": null,
            "_view_module_version": "1.2.0",
            "_model_module": "@jupyter-widgets/controls"
          }
        },
        "26dfb9d4fa364aebb40c5678025605aa": {
          "model_module": "@jupyter-widgets/base",
          "model_name": "LayoutModel",
          "state": {
            "_view_name": "LayoutView",
            "grid_template_rows": null,
            "right": null,
            "justify_content": null,
            "_view_module": "@jupyter-widgets/base",
            "overflow": null,
            "_model_module_version": "1.2.0",
            "_view_count": null,
            "flex_flow": null,
            "width": null,
            "min_width": null,
            "border": null,
            "align_items": null,
            "bottom": null,
            "_model_module": "@jupyter-widgets/base",
            "top": null,
            "grid_column": null,
            "overflow_y": null,
            "overflow_x": null,
            "grid_auto_flow": null,
            "grid_area": null,
            "grid_template_columns": null,
            "flex": null,
            "_model_name": "LayoutModel",
            "justify_items": null,
            "grid_row": null,
            "max_height": null,
            "align_content": null,
            "visibility": null,
            "align_self": null,
            "height": null,
            "min_height": null,
            "padding": null,
            "grid_auto_rows": null,
            "grid_gap": null,
            "max_width": null,
            "order": null,
            "_view_module_version": "1.2.0",
            "grid_template_areas": null,
            "object_position": null,
            "object_fit": null,
            "grid_auto_columns": null,
            "margin": null,
            "display": null,
            "left": null
          }
        }
      }
    }
  },
  "cells": [
    {
      "cell_type": "markdown",
      "metadata": {
        "id": "view-in-github",
        "colab_type": "text"
      },
      "source": [
        "<a href=\"https://colab.research.google.com/github/SauloSilva/IPCV-2020/blob/main/update%20code%20of%20Assignment_2.ipynb\" target=\"_parent\"><img src=\"https://colab.research.google.com/assets/colab-badge.svg\" alt=\"Open In Colab\"/></a>"
      ]
    },
    {
      "cell_type": "markdown",
      "metadata": {
        "id": "yt4a9i1l-p_-"
      },
      "source": [
        "## **Assignment 2**\n",
        "Intructions for the assignment: [link](https://daniel-yukimura.github.io/ipcv-2020-assignment-2/)\n",
        "\n",
        "### **Part 0: Setup**\n",
        "As in the first assignment you must follow the steps for setting your Google Colab environment - [Assignment-1](https://colab.research.google.com/drive/1t8gHrqvAQ_ip2Dr6nI3JOnkgRiSVqhAd?usp=sharing).\n",
        "While preparing the notebook, we suggest you already import the modules you used in the previous clas. Also, since we'll be doing image classification with larger models, we suggest you already set the runtime of the Colab notebook to work with the GPU setting.\n"
      ]
    },
    {
      "cell_type": "code",
      "metadata": {
        "id": "qRLLUaLs-txJ",
        "outputId": "ba3ea999-3ae0-4697-f2ac-694e4ef8eb33",
        "colab": {
          "base_uri": "https://localhost:8080/"
        }
      },
      "source": [
        "##############################################################################\n",
        "# Setup\n",
        "##############################################################################\n",
        "\n",
        "from google.colab import drive\n",
        "drive.mount('/content/drive')\n",
        "\n",
        "%cd drive/'My Drive'/IPCV-2020/Assignment-2/\n",
        "\n",
        "%load_ext autoreload\n",
        "%autoreload 2\n",
        "\n",
        "import torch\n",
        "print(torch.__version__)\n"
      ],
      "execution_count": 1,
      "outputs": [
        {
          "output_type": "stream",
          "text": [
            "Mounted at /content/drive\n",
            "/content/drive/My Drive/IPCV-2020/Assignment-2\n",
            "1.7.0+cu101\n"
          ],
          "name": "stdout"
        }
      ]
    },
    {
      "cell_type": "code",
      "metadata": {
        "id": "tX59zQQkWKPZ"
      },
      "source": [
        "import os\n",
        "import numpy as np\n",
        "from torchvision import transforms\n",
        "from torchvision.datasets import MNIST\n",
        "from torch.utils.data import random_split, DataLoader\n",
        "import matplotlib.pyplot as plt\n",
        "%matplotlib inline\n",
        "\n",
        "cuda = torch.cuda.is_available()\n",
        "DEVICE = torch.device(\"cuda:0\" if cuda else \"cpu\")\n",
        "\n",
        "def to_cuda(x):\n",
        "  return x.to(DEVICE)"
      ],
      "execution_count": 2,
      "outputs": []
    },
    {
      "cell_type": "markdown",
      "metadata": {
        "id": "y7HbC2jw-z-s"
      },
      "source": [
        "### **Part 1: Convolutional Neural Networks (CNN)**\n",
        "\n",
        "In the first part of this assignment we'll be setting a CNN using PyTorch. For that we'll see how to choose the dimensions and kernel sizes, in order to correctly match the dimensions while modeling a CNN. We start by observing a base example which we'll be using throughout this part of the assignment. We'll be training the model on the MNIST dataset as in the previous assignment."
      ]
    },
    {
      "cell_type": "code",
      "metadata": {
        "id": "3jLCj_dU-1Gl"
      },
      "source": [
        "import torch\n",
        "import torchvision\n",
        "from torch import nn\n",
        "import torch.nn.functional as F\n",
        "\n",
        "class ConvNN(nn.Module):\n",
        "    def __init__(self):\n",
        "        super(ConvNN, self).__init__()\n",
        "        self.cv1 = nn.Conv2d(1,24, kernel_size=5, stride=1, padding=2)\n",
        "        self.cv2 = nn.Conv2d(24,48, kernel_size=5, stride=1, padding=2)\n",
        "        self.fc = nn.Linear(7*7*48, 10)\n",
        "\n",
        "    def forward(self, x):\n",
        "        out = F.relu(F.max_pool2d(self.cv1(x), 2))\n",
        "        out = F.relu(F.max_pool2d(self.cv2(out), 2))\n",
        "        out = out.view(-1,7*7*48)\n",
        "        return self.fc(out)"
      ],
      "execution_count": 3,
      "outputs": []
    },
    {
      "cell_type": "markdown",
      "metadata": {
        "id": "6keI_xUI_uRi"
      },
      "source": [
        "### **Base model**:\n",
        "We'll make a lot of tests and changes based on this model, therefore we recommend that while solving this problems you create test functions in the notebook, or in a python script, in order to reuse your code.\n",
        "\n",
        "For the next exercises you should record the performance of your training using a validation step, you'll use this data for comparing the perfomance between models. We also recommend a list of hyperparameters for the initial setting\n",
        "* number of epochs: 20\n",
        "* learning rate: 0.001\n",
        "* batch size: 64\n",
        "\n",
        "**Instruction:** The goal of the following exercises is to improve the base model. Therefore, we suggest the following practices when doing your analysis:\n",
        "* After each exercise where an improvement is required, we ask that you plot a comparison graph between the perfomances of all changes in question. \n",
        "* Write a brief comment on which one is the best choice, and why is that the case. \n",
        "* You should compare them using the accuracy measure on you validation split. \n",
        "* For the cases where models have similar perfomance, the simpler (less parameters) should be the one to prevail.\n",
        "* After selecting a change, you should maintain this change for the next exercise.\n",
        "* We recommend you get use to saving and loading your models too - [Tutorial](https://pytorch.org/tutorials/beginner/saving_loading_models.html).\n",
        "-----\n",
        "\n",
        "1. Load the MNIST dataset and train the given base model. Here you can essentially use the same settings you have used in the first assingment.\n"
      ]
    },
    {
      "cell_type": "code",
      "metadata": {
        "id": "lTmtPhGt_vCK"
      },
      "source": [
        "##############################################################################\n",
        "# Code\n",
        "##############################################################################\n",
        "\n",
        "# BASE VARS\n",
        "\n",
        "n_epochs = 20\n",
        "batch_size = 64\n",
        "loss = nn.CrossEntropyLoss()\n",
        "\n",
        "# DATA\n",
        "\n",
        "mnist_transform = transforms.Compose([ transforms.ToTensor(), transforms.Normalize((0.1307,), (0.3081,)) ])\n",
        "mnist_data = MNIST(os.getcwd(), train=True, download=True, transform=mnist_transform)\n",
        "mnist_train, mnist_val = random_split(mnist_data, [55000, 5000])\n",
        "mnist_test = MNIST(os.getcwd(), train=False, download=True, transform=mnist_transform)\n",
        "\n",
        "train_loader = DataLoader(mnist_train, batch_size=batch_size)\n",
        "test_loader = DataLoader(mnist_test, batch_size=batch_size)\n",
        "val_loader = DataLoader(mnist_val, batch_size=batch_size)"
      ],
      "execution_count": 32,
      "outputs": []
    },
    {
      "cell_type": "code",
      "metadata": {
        "id": "w9iYQe0gWcNX"
      },
      "source": [
        "import tqdm\n",
        "\n",
        "def test_step(model, loader):\n",
        "  with torch.no_grad():\n",
        "    correct, total, error = 0, 0, 0\n",
        "\n",
        "    for images, labels in loader:\n",
        "      images = to_cuda(images)\n",
        "      labels = to_cuda(labels)\n",
        "      outputs = model(images)\n",
        "\n",
        "      error += loss(outputs, labels)\n",
        "\n",
        "      _, predicted = torch.max(outputs.data, 1)\n",
        "      total += labels.size(0)\n",
        "      correct += (predicted == labels).sum().detach().item()\n",
        "\n",
        "    return correct / total, error / len(loader)\n",
        "\n",
        "def train(model, cfg, save_step=100, num_epochs=20, show=True):\n",
        "  optim_method = getattr(torch.optim, cfg.get('optim', 'SGD'))\n",
        "  optim = optim_method(model.parameters(), lr=cfg.get(\"learning_rate\", 0.01))\n",
        "\n",
        "  val_loss = []\n",
        "  val_acc = []\n",
        "\n",
        "  count = 0\n",
        "  outer_bar = tqdm.notebook.tqdm(total=num_epochs, desc=\"Epochs\", position=0)\n",
        "  inner_bar = tqdm.notebook.tqdm(total=len(mnist_train) / batch_size, desc=\"Epochs\", position=1)\n",
        "  loss_bar = tqdm.notebook.tqdm(total=len(mnist_train) / batch_size, bar_format=\"{postfix[0]} {postfix[1][loss]:>8.2g}\", postfix=[\"Loss\", dict(loss=0)])\n",
        "\n",
        "  for epoch in range(num_epochs):\n",
        "    inner_bar.reset()\n",
        "    loss_bar.reset()\n",
        "\n",
        "    for idx, (img_batch, y_batch) in enumerate(train_loader):\n",
        "      img_batch = to_cuda(img_batch)\n",
        "      y_batch = to_cuda(y_batch)\n",
        "\n",
        "      y_pred = model(img_batch)\n",
        "      error = loss(y_pred, y_batch)\n",
        "\n",
        "      optim.zero_grad()\n",
        "      error.backward()\n",
        "      optim.step()\n",
        "\n",
        "      inner_bar.update()\n",
        "      loss_bar.postfix[1][\"loss\"] = error.item()\n",
        "      loss_bar.update()\n",
        "      count += 1\n",
        "\n",
        "      if (count + 1) % save_step == 0:\n",
        "        acc, loss_val = test_step(model, val_loader)\n",
        "        val_acc.append(acc)\n",
        "        val_loss.append(loss_val)\n",
        "\n",
        "        if (count + 1) % save_step == 0 and show:\n",
        "          print(\"Acurracy: {}\".format(100 * acc))\n",
        "\n",
        "    outer_bar.update()\n",
        "  return val_loss, val_acc\n"
      ],
      "execution_count": 34,
      "outputs": []
    },
    {
      "cell_type": "code",
      "metadata": {
        "id": "QbAoP64-WflN",
        "outputId": "1d92c530-bc62-4376-dc0c-fd1ae0c7a186",
        "colab": {
          "base_uri": "https://localhost:8080/",
          "height": 1000,
          "referenced_widgets": [
            "8f1fa40e67e1442381786ac960f8e647",
            "ee6ef460958f481dbe538a82cab8d1a8",
            "2e99a7926dfd4b70a96a45a4cc9ea684",
            "8115f77f51cb48e69b5c06a076c00ba5",
            "5a7522b98b674ee58da9ddf69c6cc479",
            "1deaf665cc17400bae6083a9b424a046",
            "580a850c41e64c308f0be611774f68ed",
            "bdcb50d84c4048dc8b7431c269dec3b8",
            "84da8365a21649a6b8bf988569b52817",
            "6ecf95fe7ea9456b954e8c79c7cca615",
            "854cbc3beaa44b2da3afd801bed319e8",
            "c1a04ee313b4455d9d7e404e032c93c0",
            "0b52a536b89e4ffd804e208e4b17f609",
            "ea36a6cb35424f7c8f21c339e0b48b9b",
            "a8b1f6d40530488ca65d4fea4488f356",
            "7860bd3fae284724b07f3ee3f51317df",
            "d162434bf3a14c9c92886954c21d2dd4",
            "4f9a4da5b3a348f0a0acb6d3f8e676f9",
            "ad9e13f1e0c843ff941bbbfe6044a605",
            "726fb7a30a9f46c09d03a87a33d198dc",
            "02e9cf170edc4ca28d46ba9326ea8616",
            "0cace258566f492085406942c4a253bd",
            "6ea59728fba9410b9711635282121229",
            "26dfb9d4fa364aebb40c5678025605aa"
          ]
        }
      },
      "source": [
        "CNN = to_cuda(ConvNN())\n",
        "cfg = {\"learning_rate\": 0.001, \"optim\": \"SGD\"}\n",
        "\n",
        "val_loss, val_acc = train(CNN, cfg)"
      ],
      "execution_count": 35,
      "outputs": [
        {
          "output_type": "display_data",
          "data": {
            "application/vnd.jupyter.widget-view+json": {
              "model_id": "8f1fa40e67e1442381786ac960f8e647",
              "version_minor": 0,
              "version_major": 2
            },
            "text/plain": [
              "HBox(children=(FloatProgress(value=0.0, description='Epochs', max=20.0, style=ProgressStyle(description_width=…"
            ]
          },
          "metadata": {
            "tags": []
          }
        },
        {
          "output_type": "display_data",
          "data": {
            "application/vnd.jupyter.widget-view+json": {
              "model_id": "84da8365a21649a6b8bf988569b52817",
              "version_minor": 0,
              "version_major": 2
            },
            "text/plain": [
              "HBox(children=(FloatProgress(value=0.0, description='Epochs', max=859.375, style=ProgressStyle(description_wid…"
            ]
          },
          "metadata": {
            "tags": []
          }
        },
        {
          "output_type": "display_data",
          "data": {
            "application/vnd.jupyter.widget-view+json": {
              "model_id": "d162434bf3a14c9c92886954c21d2dd4",
              "version_minor": 0,
              "version_major": 2
            },
            "text/plain": [
              "HBox(children=(FloatProgress(value=0.0, max=859.375), HTML(value='')))"
            ]
          },
          "metadata": {
            "tags": []
          }
        },
        {
          "output_type": "stream",
          "text": [
            "Acurracy: 45.22\n",
            "Acurracy: 62.62\n",
            "Acurracy: 77.28\n",
            "Acurracy: 79.74\n",
            "Acurracy: 81.32000000000001\n",
            "Acurracy: 82.82000000000001\n",
            "Acurracy: 85.04\n",
            "Acurracy: 85.0\n",
            "Acurracy: 86.9\n",
            "Acurracy: 87.7\n",
            "Acurracy: 88.32\n",
            "Acurracy: 89.18\n",
            "Acurracy: 89.28\n",
            "Acurracy: 89.74\n",
            "Acurracy: 90.16\n",
            "Acurracy: 90.3\n",
            "Acurracy: 90.58\n",
            "Acurracy: 90.96\n",
            "Acurracy: 90.72\n",
            "Acurracy: 91.12\n",
            "Acurracy: 91.46\n",
            "Acurracy: 91.52\n",
            "Acurracy: 91.8\n",
            "Acurracy: 91.88\n",
            "Acurracy: 92.22\n",
            "Acurracy: 92.14\n",
            "Acurracy: 92.36\n",
            "Acurracy: 92.12\n",
            "Acurracy: 92.56\n",
            "Acurracy: 92.74\n",
            "Acurracy: 92.72\n",
            "Acurracy: 93.08\n",
            "Acurracy: 92.97999999999999\n",
            "Acurracy: 93.02\n",
            "Acurracy: 93.0\n",
            "Acurracy: 93.47999999999999\n",
            "Acurracy: 93.66\n",
            "Acurracy: 93.5\n",
            "Acurracy: 93.72\n",
            "Acurracy: 93.66\n",
            "Acurracy: 93.84\n",
            "Acurracy: 93.94\n",
            "Acurracy: 93.94\n",
            "Acurracy: 93.88\n",
            "Acurracy: 93.97999999999999\n",
            "Acurracy: 94.36\n",
            "Acurracy: 94.38\n",
            "Acurracy: 94.44\n",
            "Acurracy: 94.5\n",
            "Acurracy: 94.54\n",
            "Acurracy: 94.62\n",
            "Acurracy: 94.46\n",
            "Acurracy: 94.67999999999999\n",
            "Acurracy: 94.98\n",
            "Acurracy: 94.82000000000001\n",
            "Acurracy: 94.94\n",
            "Acurracy: 95.16\n",
            "Acurracy: 95.19999999999999\n",
            "Acurracy: 95.14\n",
            "Acurracy: 95.06\n",
            "Acurracy: 95.12\n",
            "Acurracy: 95.12\n",
            "Acurracy: 95.34\n",
            "Acurracy: 95.39999999999999\n",
            "Acurracy: 95.38\n",
            "Acurracy: 95.42\n",
            "Acurracy: 95.48\n",
            "Acurracy: 95.5\n",
            "Acurracy: 95.52000000000001\n",
            "Acurracy: 95.52000000000001\n",
            "Acurracy: 95.56\n",
            "Acurracy: 95.5\n",
            "Acurracy: 95.7\n",
            "Acurracy: 95.84\n",
            "Acurracy: 95.8\n",
            "Acurracy: 95.82000000000001\n",
            "Acurracy: 95.76\n",
            "Acurracy: 95.92\n",
            "Acurracy: 95.84\n",
            "Acurracy: 95.89999999999999\n",
            "Acurracy: 95.98\n",
            "Acurracy: 96.04\n",
            "Acurracy: 96.02000000000001\n",
            "Acurracy: 96.02000000000001\n",
            "Acurracy: 96.14\n",
            "Acurracy: 96.24000000000001\n",
            "Acurracy: 96.17999999999999\n",
            "Acurracy: 96.16\n",
            "Acurracy: 96.26\n",
            "Acurracy: 96.16\n",
            "Acurracy: 96.36\n",
            "Acurracy: 96.56\n",
            "Acurracy: 96.32\n",
            "Acurracy: 96.56\n",
            "Acurracy: 96.39999999999999\n",
            "Acurracy: 96.6\n",
            "Acurracy: 96.56\n",
            "Acurracy: 96.64\n",
            "Acurracy: 96.66\n",
            "Acurracy: 96.61999999999999\n",
            "Acurracy: 96.8\n",
            "Acurracy: 96.52\n",
            "Acurracy: 96.6\n",
            "Acurracy: 96.52\n",
            "Acurracy: 96.61999999999999\n",
            "Acurracy: 96.8\n",
            "Acurracy: 96.84\n",
            "Acurracy: 96.76\n",
            "Acurracy: 96.92\n",
            "Acurracy: 96.94\n",
            "Acurracy: 96.84\n",
            "Acurracy: 96.86\n",
            "Acurracy: 97.08\n",
            "Acurracy: 96.92\n",
            "Acurracy: 97.08\n",
            "Acurracy: 97.02\n",
            "Acurracy: 97.06\n",
            "Acurracy: 97.16\n",
            "Acurracy: 97.16\n",
            "Acurracy: 96.94\n",
            "Acurracy: 97.2\n",
            "Acurracy: 97.06\n",
            "Acurracy: 97.24000000000001\n",
            "Acurracy: 96.98\n",
            "Acurracy: 97.26\n",
            "Acurracy: 97.18\n",
            "Acurracy: 97.22\n",
            "Acurracy: 97.24000000000001\n",
            "Acurracy: 97.3\n",
            "Acurracy: 97.22\n",
            "Acurracy: 97.16\n",
            "Acurracy: 97.28\n",
            "Acurracy: 97.18\n",
            "Acurracy: 97.2\n",
            "Acurracy: 97.44\n",
            "Acurracy: 97.0\n",
            "Acurracy: 97.24000000000001\n",
            "Acurracy: 97.3\n",
            "Acurracy: 97.2\n",
            "Acurracy: 97.34\n",
            "Acurracy: 97.32\n",
            "Acurracy: 97.14\n",
            "Acurracy: 97.38\n",
            "Acurracy: 97.38\n",
            "Acurracy: 97.24000000000001\n",
            "Acurracy: 97.36\n",
            "Acurracy: 97.3\n",
            "Acurracy: 97.22\n",
            "Acurracy: 97.46000000000001\n",
            "Acurracy: 97.32\n",
            "Acurracy: 97.44\n",
            "Acurracy: 97.54\n",
            "Acurracy: 97.38\n",
            "Acurracy: 97.38\n",
            "Acurracy: 97.42\n",
            "Acurracy: 97.58\n",
            "Acurracy: 97.39999999999999\n",
            "Acurracy: 97.39999999999999\n",
            "Acurracy: 97.39999999999999\n",
            "Acurracy: 97.52\n",
            "Acurracy: 97.52\n",
            "Acurracy: 97.52\n",
            "Acurracy: 97.46000000000001\n",
            "Acurracy: 97.5\n",
            "Acurracy: 97.52\n",
            "Acurracy: 97.58\n",
            "Acurracy: 97.38\n",
            "Acurracy: 97.52\n",
            "Acurracy: 97.58\n",
            "Acurracy: 97.56\n",
            "Acurracy: 97.6\n",
            "Acurracy: 97.6\n"
          ],
          "name": "stdout"
        }
      ]
    },
    {
      "cell_type": "markdown",
      "metadata": {
        "id": "6q9JTclh_xF9"
      },
      "source": [
        "### **Optimization**\n",
        "\n",
        "2. Your first task is to improve the optimization setting you're using. You should compare the standard SGD (`torch.optim.SGD`) with the **Adam** algorithm (`torch.optim.Adam`). \n",
        "\n",
        "Adam combines other two extensions of stochastic gradient descent:\n",
        "* Adaptive Gradient Algorithm (AdaGrad)\n",
        "* Root Mean Square Propagation (RMSProp)\n",
        "\n",
        "Its parameters are:\n",
        "* **learning_rate** (or **alpha**): Also referred to as the learning rate or step size. The proportion that weights are updated (e.g. 0.001). Larger values (e.g. 0.3) results in faster initial learning before the rate is updated. Smaller values (e.g. 1.0E-5) slow learning right down during training\n",
        "* **beta1**: The exponential decay rate for the first moment estimates (e.g. 0.9).\n",
        "* **beta2**: The exponential decay rate for the second-moment estimates (e.g. 0.999). This value should be set close to 1.0 on problems with a sparse gradient (e.g. NLP and computer vision problems).\n",
        "* **epsilon**: Is a very small number to prevent any division by zero in the implementation (e.g. 10E-8). \n",
        "\n",
        "**Testing**: The recommended choice of parameters for using with Adam are the following\n",
        "* learning_rate=0.001, beta1=0.9, beta2=0.999, epsilon=1e-8\n",
        "\n",
        "But we ask you to test other values for the learning rate too, in particular the learning rates 0.0001, 0.001, 0.01."
      ]
    },
    {
      "cell_type": "code",
      "metadata": {
        "id": "pp5cc_N7_zKm"
      },
      "source": [
        "##############################################################################\n",
        "# Code\n",
        "##############################################################################"
      ],
      "execution_count": null,
      "outputs": []
    },
    {
      "cell_type": "markdown",
      "metadata": {
        "id": "3Vat-BS9_1Og"
      },
      "source": [
        "### **Number of Layers**\n",
        "Consider the following notation:\n",
        "* **24C5** means a convolution layer with 24 feature maps using a 5x5 filter and stride 1\n",
        "* **24C5S2** means a convolution layer with 24 feature maps using a 5x5 filter and stride 2\n",
        "* **P2** means max pooling using 2x2 filter and stride 2\n",
        "* **256** means fully connected dense layer with 256 units\n",
        "\n",
        "Then our base model can be described as\n",
        "* input - [24C5-P2] - [48C5-P2] - 10\n",
        "\n",
        "3. The base model contains two convolutional blocks (convolutional layer + pooling). Compare the present model with the following two:\n",
        "* input - [24C5-P2] - 256 - 10\n",
        "* input - [24C5-P2] - [48C5-P2] - [64C5-P2] - 10"
      ]
    },
    {
      "cell_type": "code",
      "metadata": {
        "id": "yqD8Kofu_33S"
      },
      "source": [
        "##############################################################################\n",
        "# Code\n",
        "##############################################################################"
      ],
      "execution_count": null,
      "outputs": []
    },
    {
      "cell_type": "markdown",
      "metadata": {
        "id": "1bTpCyHe_5zq"
      },
      "source": [
        "### **Feature maps**\n",
        "Convolutional layers work by transforming feature representations in new ones using a collection of filters (convolutional kernels). There's no rigorous rule on how to choose how many filter should one use, as is the case for the number of fully connected layers. Therefore, one must in general test different architectures, while following known reccomendations.\n",
        "\n",
        "4. Test your present model changing the number of feature maps in each convolutional layer. Here we present a recomendation of possible choices for the number of features, assuming the network has two convolutional layers\n",
        "* input - [8C5-P2] - [16C5-P2] - 10\n",
        "* input - [16C5-P2] - [32C5-P2] - 10\n",
        "* input - [24C5-P2] - [48C5-P2] - 10\n",
        "* input - [32C5-P2] - [64C5-P2] - 10\n",
        "* input - [48C5-P2] - [96C5-P2] - 10\n",
        "* input - [64C5-P2] - [128C5-P2] - 10\n",
        "\n",
        "If the model has different one, three or more layers, than the above should be adjusted equivalently for the present case."
      ]
    },
    {
      "cell_type": "code",
      "metadata": {
        "id": "7lLbkBnV_8Xl"
      },
      "source": [
        "##############################################################################\n",
        "# Code\n",
        "##############################################################################"
      ],
      "execution_count": null,
      "outputs": []
    },
    {
      "cell_type": "markdown",
      "metadata": {
        "id": "pvWb0xIu_97O"
      },
      "source": [
        "### **Dense layer**\n",
        "As of right now, we flatten and the output of our last convolutional layer and connect it into a dense layer, that provides the classification scores.\n",
        "\n",
        "5. Add a hidden dense layer between the last convolutional layer and the last layer and compare the present model with the new one. Test hidden dense layers of sizes: 16, 64, 128, 256, 512, 1024."
      ]
    },
    {
      "cell_type": "code",
      "metadata": {
        "id": "JTyym2aYAAnO"
      },
      "source": [
        "##############################################################################\n",
        "# Code\n",
        "##############################################################################"
      ],
      "execution_count": null,
      "outputs": []
    },
    {
      "cell_type": "markdown",
      "metadata": {
        "id": "Ds5m3NMwACwY"
      },
      "source": [
        "### **Dropout**\n",
        "Dropout is a regularization technique that consists on temporarily droping out different sets of connections, chosen randomly, during training. Heuristically, dropout can be seen as simulating the training of simpler subnetworks simultaneously. Simpler networks are less prone to overfit, and thats the purpose of using it during training.\n",
        "\n",
        "* [Dropout](https://pytorch.org/docs/stable/generated/torch.nn.Dropout.html)\n",
        "* [Dropout2d](https://pytorch.org/docs/stable/generated/torch.nn.Dropout2d.html)\n",
        "\n",
        "6. Add dropout layers in between each layer. These layers have a parameter `p` that tells the probability of a neuron to be dropped. Test the present model with the one using dropout for different values fo `p`. We recommend testing `p = 0.3, 0.4, 0.5, 0.6, 0.7`.\n",
        "\n"
      ]
    },
    {
      "cell_type": "code",
      "metadata": {
        "id": "E9tJCo_VAFIq"
      },
      "source": [
        "##############################################################################\n",
        "# Code\n",
        "##############################################################################"
      ],
      "execution_count": null,
      "outputs": []
    },
    {
      "cell_type": "markdown",
      "metadata": {
        "id": "NDseJM0LAGtq"
      },
      "source": [
        "### **Batch Normalization**\n",
        "\n",
        "Batch normalization works by computing the mean and standard deviation of each minibatch, and renormalizing the batch accordingly. It also maintain two learnable parameters that compensate the randomness coming from the batch sampling.\n",
        "* [functional.batch_norm](https://pytorch.org/docs/stable/nn.functional.html#batch-norm)\n",
        "* [BatchNorm2d](https://pytorch.org/docs/stable/generated/torch.nn.BatchNorm2d.html)\n",
        "\n",
        "7. Add Batch Normalization layers to the model, and compare with your current state."
      ]
    },
    {
      "cell_type": "code",
      "metadata": {
        "id": "rXXA78_WFbAO"
      },
      "source": [
        ""
      ],
      "execution_count": null,
      "outputs": []
    },
    {
      "cell_type": "markdown",
      "metadata": {
        "id": "fSb81rV5ALh9"
      },
      "source": [
        "### **Extra**:\n",
        "At this point, your network should have reached around more then 99% precision.\n",
        "Nevertheless there are some archtecture changes that can sometimes improve even more the performance of your model.\n",
        "\n",
        "8. Replace each conv. layer with 5x5 kernels in your network by two consecutive conv. layers with 3x3 kernels. For example, try replacing '32C5' with '32C3-32C3'. The two layers similarly mimic the 5x5 layer, but add more nonlinearities.\n",
        "\n",
        "9. Instead of using a maxpooling layer you can replace it by another convolutional layer that has stride 2, and therefore perfomes a subsampling, but in a learnable way. That would mean, for example, to replace'P2' with a'32C5S2'."
      ]
    },
    {
      "cell_type": "code",
      "metadata": {
        "id": "Efik2bH8HHE4"
      },
      "source": [
        ""
      ],
      "execution_count": null,
      "outputs": []
    }
  ]
}